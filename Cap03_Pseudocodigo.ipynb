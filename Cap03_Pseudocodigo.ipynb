{
 "cells": [
  {
   "cell_type": "markdown",
   "metadata": {},
   "source": [
    "# Capítulo 03 - Introdução à lógica de programação"
   ]
  },
  {
   "cell_type": "markdown",
   "metadata": {},
   "source": [
    "## Pseudocódigo"
   ]
  },
  {
   "cell_type": "markdown",
   "metadata": {},
   "source": [
    "### Exercícios"
   ]
  },
  {
   "cell_type": "markdown",
   "metadata": {},
   "source": [
    "1a - Criar um pseudocódigo para calcular a área de um paralelograma:"
   ]
  },
  {
   "cell_type": "code",
   "execution_count": 1,
   "metadata": {},
   "outputs": [],
   "source": [
    "# Pedir ao usuário para inserir o comprimento da base\n",
    "# Armazenar o comprimeto da base em uma variável\n",
    "# Pedir ao usuário para inserir a altura\n",
    "# Armazenar a altura em uma variável\n",
    "# Mutiplicar a base pela altura para calcular a área\n",
    "# Armazenar a área em uma variável\n",
    "# Exibir a variável de área"
   ]
  },
  {
   "cell_type": "markdown",
   "metadata": {},
   "source": [
    "1b - Transformar o pseudocódigo em código:"
   ]
  },
  {
   "cell_type": "code",
   "execution_count": 13,
   "metadata": {},
   "outputs": [
    {
     "name": "stdout",
     "output_type": "stream",
     "text": [
      "A área é 24.0\n"
     ]
    }
   ],
   "source": [
    "# Pedir ao usuário para inserir o comprimento da base\n",
    "# Armazenar o comprimeto da base em uma variável\n",
    "base = float(input(\"Valor da base em cm: \"))\n",
    "\n",
    "# Pedir ao usuário para inserir a altura\n",
    "# Armazenar a altura em uma variável\n",
    "altura = float(input(\"Valor da altura em cm: \"))\n",
    "\n",
    "# Armazenar a área em uma variável\n",
    "area = base * altura\n",
    "\n",
    "# Exibir a variável de área\n",
    "print(\"A área é\",area)"
   ]
  },
  {
   "cell_type": "markdown",
   "metadata": {},
   "source": [
    "2a - Crie uma calculador simples usando pseudocódigo:"
   ]
  },
  {
   "cell_type": "code",
   "execution_count": null,
   "metadata": {},
   "outputs": [],
   "source": [
    "# Pedir ao usuário para indicar o primeiro número\n",
    "# Armazenar o número em uma variável\n",
    "# Pedir ao usuário para indicar a operação (+,-,*,/)\n",
    "# Armazenar o número em uma variável\n",
    "# Pedir ao usuário para indicar o segundo número\n",
    "# Armazenar a operação em uma variável\n",
    "# Realizar a operação\n",
    "# Printar o resultado"
   ]
  },
  {
   "cell_type": "markdown",
   "metadata": {},
   "source": [
    "Uma diferença entre o meu pseudocógido e o do curso é que o curso sugeriu a ordem \"1º número, 2º número e operação\". Eu optei por pedir \"1º número, operação, 2º número\", pois é mais próxima da experiência de uso de uma calculadora tradicional."
   ]
  },
  {
   "cell_type": "markdown",
   "metadata": {},
   "source": [
    "2b - Transformar o pseudocódigo em código:"
   ]
  },
  {
   "cell_type": "code",
   "execution_count": 33,
   "metadata": {},
   "outputs": [
    {
     "name": "stdout",
     "output_type": "stream",
     "text": [
      "2.0\n"
     ]
    }
   ],
   "source": [
    "# Pedir ao usuário para indicar o primeiro número\n",
    "# Armazenar o número em uma variável\n",
    "num1 = float(input(\"Indique o primeiro número: \"))\n",
    "\n",
    "# Pedir ao usuário para indicar a operação (+,-,*,/)\n",
    "# Armazenar a operacao em uma variável\n",
    "operacao = input(\"Indique a operação (+,-,*,/): \")\n",
    "\n",
    "# Pedir ao usuário para indicar o segundo número\n",
    "# Armazenar o número em uma variável\n",
    "num2 = float(input(\"Indique o segundo número: \"))\n",
    "\n",
    "# Realizar a operação\n",
    "if (operacao == \"+\"):\n",
    "    resultado = num1+num2\n",
    "    print(resultado)\n",
    "elif (operacao == \"-\"):\n",
    "    resultado = num1-num2\n",
    "    print(resultado)\n",
    "elif(operacao == \"*\"):\n",
    "    resultado = num1*num2\n",
    "    print(resultado)\n",
    "elif(operacao == \"/\"):\n",
    "    resultado = num1/num2\n",
    "    print(resultado)\n",
    "else:\n",
    "    print(\"Algo saiu errado!\")\n",
    "# Printar o resultado"
   ]
  },
  {
   "cell_type": "markdown",
   "metadata": {},
   "source": [
    "3a - Crie um pseudocódigo para criar um algoritmo Bubble Sort, que ordena uma lista do menor para o maior."
   ]
  },
  {
   "cell_type": "code",
   "execution_count": 34,
   "metadata": {},
   "outputs": [],
   "source": [
    "# Para cada elemento i no array de tamanho n\n",
    "#   Para cada elemento j no array de tamanho n - 1\n",
    "#       Se o elemento i for maior que o elemento j\n",
    "#           Troque os elementos i e j\n",
    "# Exiba o array ordenado"
   ]
  },
  {
   "cell_type": "markdown",
   "metadata": {},
   "source": [
    "3b -  Transformar o pseudocódigo em código:"
   ]
  },
  {
   "cell_type": "code",
   "execution_count": 169,
   "metadata": {},
   "outputs": [],
   "source": [
    "lista = [6,7,8,3,10,19]\n",
    "\n",
    "def bubble_sort(arr):\n",
    "    n = len(arr)\n",
    "    for i in range(n):\n",
    "        for j in range(0, n-i-1):\n",
    "            if arr[j] > arr[j+1]:\n",
    "                arr[j], arr[j+1] = arr[j+1],arr[j]\n",
    "    return arr\n"
   ]
  },
  {
   "cell_type": "code",
   "execution_count": 170,
   "metadata": {},
   "outputs": [
    {
     "data": {
      "text/plain": [
       "[3, 6, 7, 8, 10, 19]"
      ]
     },
     "execution_count": 170,
     "metadata": {},
     "output_type": "execute_result"
    }
   ],
   "source": [
    "bubble_sort(lista)"
   ]
  }
 ],
 "metadata": {
  "kernelspec": {
   "display_name": "Python 3",
   "language": "python",
   "name": "python3"
  },
  "language_info": {
   "codemirror_mode": {
    "name": "ipython",
    "version": 3
   },
   "file_extension": ".py",
   "mimetype": "text/x-python",
   "name": "python",
   "nbconvert_exporter": "python",
   "pygments_lexer": "ipython3",
   "version": "3.11.9"
  }
 },
 "nbformat": 4,
 "nbformat_minor": 2
}
