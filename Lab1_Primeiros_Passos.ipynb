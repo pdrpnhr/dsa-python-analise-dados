{
 "cells": [
  {
   "cell_type": "markdown",
   "metadata": {},
   "source": [
    "1) Crie uma lista com números entre 1 e 100 e imprima os números pares, mas somente se forem divisíveis por 4. No curso, o código é gerado pelo ChatGPT e validado no Python. Como já tinha feito um curso introdutório antes, tentei fazer o código sozinho primeiro e depois acompanhar o vídeo."
   ]
  },
  {
   "cell_type": "code",
   "execution_count": 8,
   "metadata": {},
   "outputs": [
    {
     "name": "stdout",
     "output_type": "stream",
     "text": [
      "4\n",
      "8\n",
      "12\n",
      "16\n",
      "20\n",
      "24\n",
      "28\n",
      "32\n",
      "36\n",
      "40\n",
      "44\n",
      "48\n",
      "52\n",
      "56\n",
      "60\n",
      "64\n",
      "68\n",
      "72\n",
      "76\n",
      "80\n",
      "84\n",
      "88\n",
      "92\n",
      "96\n",
      "100\n"
     ]
    }
   ],
   "source": [
    "# Cria uma lista com números de 1 a 101. Lembrando que o final do valor de range não entra no final.\n",
    "numeros = list(range(1,101))\n",
    "\n",
    "# Para cada número da lista, verifica se é divisível por 4 (resto da divisão = 0). Se sim, printa o número.\n",
    "# Não verifiquei se o número é divisível por 2 pois todos os números divisíveis por 4 são divisíveis por 2.\n",
    "\n",
    "for i in numeros:\n",
    "    if i % 4 == 0:\n",
    "        print(i)"
   ]
  },
  {
   "cell_type": "markdown",
   "metadata": {},
   "source": [
    "2) Faça o mesmo exercício, mas com list comprehension."
   ]
  },
  {
   "cell_type": "code",
   "execution_count": 12,
   "metadata": {},
   "outputs": [
    {
     "name": "stdout",
     "output_type": "stream",
     "text": [
      "[4, 8, 12, 16, 20, 24, 28, 32, 36, 40, 44, 48, 52, 56, 60, 64, 68, 72, 76, 80, 84, 88, 92, 96, 100]\n"
     ]
    }
   ],
   "source": [
    "# Cria uma lista com os números entre 1 e 100\n",
    "numeros = list(range(1,101))\n",
    "\n",
    "# Usa a list comprehension para gerar uma lista omente com os números pares e divisíveis por 4.\n",
    "pares_div4 = [numero for numero in numeros if numero % 2 == 0 and numero % 4 ==0]\n",
    "\n",
    "# Imprime a lista gerada.\n",
    "print(pares_div4)\n"
   ]
  },
  {
   "cell_type": "code",
   "execution_count": 13,
   "metadata": {},
   "outputs": [
    {
     "data": {
      "text/plain": [
       "list"
      ]
     },
     "execution_count": 13,
     "metadata": {},
     "output_type": "execute_result"
    }
   ],
   "source": [
    "# Verificar se o resultado é uma lista:\n",
    "type(pares_div4)"
   ]
  }
 ],
 "metadata": {
  "kernelspec": {
   "display_name": "Python 3",
   "language": "python",
   "name": "python3"
  },
  "language_info": {
   "codemirror_mode": {
    "name": "ipython",
    "version": 3
   },
   "file_extension": ".py",
   "mimetype": "text/x-python",
   "name": "python",
   "nbconvert_exporter": "python",
   "pygments_lexer": "ipython3",
   "version": "3.11.9"
  }
 },
 "nbformat": 4,
 "nbformat_minor": 2
}
