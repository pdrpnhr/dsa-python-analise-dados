{
 "cells": [
  {
   "cell_type": "markdown",
   "metadata": {},
   "source": [
    "# Capítulo 4 - Variáveis, Tipos e Estruturas de Dados"
   ]
  },
  {
   "cell_type": "markdown",
   "metadata": {},
   "source": [
    "## 1. Números e operações matemáticas"
   ]
  },
  {
   "cell_type": "markdown",
   "metadata": {},
   "source": [
    "- Adição - +\n",
    "- Subtração - -\n",
    "- Multiplicação: *\n",
    "- Divisão - /\n",
    "- Potência - **\n",
    "- Resto da divisão de números inteiros: %"
   ]
  },
  {
   "cell_type": "markdown",
   "metadata": {},
   "source": [
    "### Função Type"
   ]
  },
  {
   "cell_type": "code",
   "execution_count": 1,
   "metadata": {},
   "outputs": [
    {
     "data": {
      "text/plain": [
       "<class 'int'>\n"
      ]
     },
     "metadata": {},
     "output_type": "display_data"
    }
   ],
   "source": [
    "type(5)"
   ]
  },
  {
   "cell_type": "code",
   "execution_count": 2,
   "metadata": {},
   "outputs": [
    {
     "data": {
      "text/plain": [
       "<class 'float'>\n"
      ]
     },
     "metadata": {},
     "output_type": "display_data"
    }
   ],
   "source": [
    "type(5.0)"
   ]
  },
  {
   "cell_type": "code",
   "execution_count": 3,
   "metadata": {},
   "outputs": [
    {
     "data": {
      "text/plain": [
       "str"
      ]
     },
     "execution_count": 3,
     "metadata": {},
     "output_type": "execute_result"
    }
   ],
   "source": [
    "a = 'Estou estudando na Data Science Academy'\n",
    "type(a)"
   ]
  },
  {
   "cell_type": "markdown",
   "metadata": {},
   "source": [
    "### Operações com Números Float"
   ]
  },
  {
   "cell_type": "code",
   "execution_count": 4,
   "metadata": {},
   "outputs": [
    {
     "data": {
      "text/plain": [
       "9.5\n"
      ]
     },
     "metadata": {},
     "output_type": "display_data"
    }
   ],
   "source": [
    "# Quando somamos dois números float, o resultado é float:\n",
    "\n",
    "3.1+ 6.4"
   ]
  },
  {
   "cell_type": "code",
   "execution_count": 10,
   "metadata": {},
   "outputs": [
    {
     "data": {
      "text/plain": [
       "8.0\n"
      ]
     },
     "metadata": {},
     "output_type": "display_data"
    }
   ],
   "source": [
    "# Quandos somamos um número int com um número float, o resultado é float:\n",
    "\n",
    "4 + 4.0"
   ]
  },
  {
   "cell_type": "code",
   "execution_count": 9,
   "metadata": {},
   "outputs": [
    {
     "data": {
      "text/plain": [
       "8\n"
      ]
     },
     "metadata": {},
     "output_type": "display_data"
    }
   ],
   "source": [
    "# Quando somamos dois números inteiros, o resultado é inteiro:\n",
    "4 + 4"
   ]
  },
  {
   "cell_type": "code",
   "execution_count": 11,
   "metadata": {},
   "outputs": [
    {
     "data": {
      "text/plain": [
       "2.0\n"
      ]
     },
     "metadata": {},
     "output_type": "display_data"
    }
   ],
   "source": [
    "# Já quando dividimos com uma única barra, o resultado é sempre float:\n",
    "\n",
    "4 / 2"
   ]
  },
  {
   "cell_type": "code",
   "execution_count": 21,
   "metadata": {},
   "outputs": [
    {
     "data": {
      "text/plain": [
       "4 // 2 = 2\n",
       "5 // 2 = 2\n"
      ]
     },
     "metadata": {},
     "output_type": "display_data"
    }
   ],
   "source": [
    "# Para forçar o resultado para um int, usamos duas barras.\n",
    "# Se eu forçar um resultado int em uma divisão com resto, recebo apenas o resultado int da divisão, sem o resto:\n",
    "\n",
    "print(f'4 // 2 = {4 // 2}')\n",
    "print(f'5 // 2 = {5 // 2 }')"
   ]
  },
  {
   "cell_type": "code",
   "execution_count": 14,
   "metadata": {},
   "outputs": [
    {
     "data": {
      "text/plain": [
       "1.3333333333333333\n"
      ]
     },
     "metadata": {},
     "output_type": "display_data"
    }
   ],
   "source": [
    "## Se um dos números for float, mesmo com duas barras, o resultado será float:\n",
    "\n",
    "4 / 3.0"
   ]
  },
  {
   "cell_type": "markdown",
   "metadata": {},
   "source": [
    "### Conversão"
   ]
  },
  {
   "cell_type": "code",
   "execution_count": 22,
   "metadata": {},
   "outputs": [
    {
     "data": {
      "text/plain": [
       "9.0\n"
      ]
     },
     "metadata": {},
     "output_type": "display_data"
    }
   ],
   "source": [
    "float(9)"
   ]
  },
  {
   "cell_type": "code",
   "execution_count": 23,
   "metadata": {},
   "outputs": [
    {
     "data": {
      "text/plain": [
       "6\n"
      ]
     },
     "metadata": {},
     "output_type": "display_data"
    }
   ],
   "source": [
    "int(6.0)"
   ]
  },
  {
   "cell_type": "code",
   "execution_count": 26,
   "metadata": {},
   "outputs": [
    {
     "data": {
      "text/plain": [
       "6\n"
      ]
     },
     "metadata": {},
     "output_type": "display_data"
    }
   ],
   "source": [
    "int(6.5)"
   ]
  },
  {
   "cell_type": "markdown",
   "metadata": {},
   "source": [
    "### Hexadecimal e Binário"
   ]
  },
  {
   "cell_type": "code",
   "execution_count": 27,
   "metadata": {},
   "outputs": [
    {
     "data": {
      "text/plain": [
       "0x18a\n"
      ]
     },
     "metadata": {},
     "output_type": "display_data"
    }
   ],
   "source": [
    "hex(394)"
   ]
  },
  {
   "cell_type": "code",
   "execution_count": 28,
   "metadata": {},
   "outputs": [
    {
     "data": {
      "text/plain": [
       "0xd9\n"
      ]
     },
     "metadata": {},
     "output_type": "display_data"
    }
   ],
   "source": [
    "hex(217)"
   ]
  },
  {
   "cell_type": "code",
   "execution_count": 31,
   "metadata": {},
   "outputs": [
    {
     "data": {
      "text/plain": [
       "0b100011110\n"
      ]
     },
     "metadata": {},
     "output_type": "display_data"
    }
   ],
   "source": [
    "bin(286)"
   ]
  },
  {
   "cell_type": "code",
   "execution_count": 30,
   "metadata": {},
   "outputs": [
    {
     "data": {
      "text/plain": [
       "0b110000110\n"
      ]
     },
     "metadata": {},
     "output_type": "display_data"
    }
   ],
   "source": [
    "bin(390)"
   ]
  },
  {
   "cell_type": "markdown",
   "metadata": {},
   "source": [
    "### Funções abs, round e pow"
   ]
  },
  {
   "cell_type": "code",
   "execution_count": 36,
   "metadata": {},
   "outputs": [
    {
     "data": {
      "text/plain": [
       "8\n"
      ]
     },
     "metadata": {},
     "output_type": "display_data"
    }
   ],
   "source": [
    "# abs: Retorna o valor absoluto\n",
    "(abs(-8))\n"
   ]
  },
  {
   "cell_type": "code",
   "execution_count": 37,
   "metadata": {},
   "outputs": [
    {
     "data": {
      "text/plain": [
       "8\n"
      ]
     },
     "metadata": {},
     "output_type": "display_data"
    }
   ],
   "source": [
    "(abs(8))"
   ]
  },
  {
   "cell_type": "code",
   "execution_count": 34,
   "metadata": {},
   "outputs": [
    {
     "data": {
      "text/plain": [
       "3.14\n"
      ]
     },
     "metadata": {},
     "output_type": "display_data"
    }
   ],
   "source": [
    "# round: arredonda o valor\n",
    "round(3.1415926,2)"
   ]
  },
  {
   "cell_type": "code",
   "execution_count": 35,
   "metadata": {},
   "outputs": [
    {
     "data": {
      "text/plain": [
       "16\n"
      ]
     },
     "metadata": {},
     "output_type": "display_data"
    }
   ],
   "source": [
    "# pow: potência. Pode usar um operador matemático (**) ou com a função\n",
    "pow(4,2)"
   ]
  },
  {
   "cell_type": "markdown",
   "metadata": {},
   "source": [
    "## 2. Variáveis e operadores"
   ]
  },
  {
   "cell_type": "code",
   "execution_count": 38,
   "metadata": {},
   "outputs": [],
   "source": [
    "# Uma variável é uma área de memória do computador para armazenar algum valor.\n",
    "# Atribuindo o valor 1 à variável var_teste:\n",
    "\n",
    "var_teste = 1"
   ]
  },
  {
   "cell_type": "code",
   "execution_count": 39,
   "metadata": {},
   "outputs": [
    {
     "data": {
      "text/plain": [
       "1\n"
      ]
     },
     "metadata": {},
     "output_type": "display_data"
    }
   ],
   "source": [
    "# É possível imprimir a variável com print ou apenas usando nome da variável:\n",
    "\n",
    "print(var_teste)\n",
    "var_teste"
   ]
  },
  {
   "cell_type": "code",
   "execution_count": 40,
   "metadata": {},
   "outputs": [
    {
     "data": {
      "text/plain": [
       "Traceback (most recent call last):\n",
       "  File \"c:\\Users\\Pedro\\.vscode\\extensions\\ms-python.python-2024.22.2-win32-x64\\python_files\\python_server.py\", line 133, in exec_user_input\n",
       "    retval = callable_(user_input, user_globals)\n",
       "             ^^^^^^^^^^^^^^^^^^^^^^^^^^^^^^^^^^^\n",
       "  File \"<string>\", line 2, in <module>\n",
       "NameError: name 'variavel_nova' is not defined\n",
       "\n"
      ]
     },
     "metadata": {},
     "output_type": "display_data"
    }
   ],
   "source": [
    "# Não é possível usar uma variável que não foi definida:\n",
    "variavel_nova"
   ]
  },
  {
   "cell_type": "code",
   "execution_count": 41,
   "metadata": {},
   "outputs": [
    {
     "data": {
      "text/plain": [
       "<class 'int'>\n"
      ]
     },
     "metadata": {},
     "output_type": "display_data"
    }
   ],
   "source": [
    "# Python usa tipificação dinâmica, ele define o tipo a partir do valor da variável.\n",
    "# Outras linguagens exige que você defina o tipo da variável manualmente.\n",
    "\n",
    "type(var_teste)"
   ]
  },
  {
   "cell_type": "code",
   "execution_count": 42,
   "metadata": {},
   "outputs": [
    {
     "data": {
      "text/plain": [
       "float"
      ]
     },
     "execution_count": 42,
     "metadata": {},
     "output_type": "execute_result"
    }
   ],
   "source": [
    "# O tipo também é alterado dinamicamente.\n",
    "# Isso pode causar problemas:\n",
    "\n",
    "var_teste = 9.5\n",
    "type(var_teste)"
   ]
  },
  {
   "cell_type": "markdown",
   "metadata": {},
   "source": [
    "### Declaração múltipla"
   ]
  },
  {
   "cell_type": "code",
   "execution_count": 43,
   "metadata": {},
   "outputs": [],
   "source": [
    "# É possível declarar múltiplas variáveis numa mesma linha:\n",
    "\n",
    "pessoa1, pessoa2, pessoa3 = 'Bob', 'Maria', 'Ana'"
   ]
  },
  {
   "cell_type": "code",
   "execution_count": 44,
   "metadata": {},
   "outputs": [
    {
     "data": {
      "text/plain": [
       "Bob\n"
      ]
     },
     "metadata": {},
     "output_type": "display_data"
    }
   ],
   "source": [
    "pessoa1"
   ]
  },
  {
   "cell_type": "code",
   "execution_count": 45,
   "metadata": {},
   "outputs": [
    {
     "data": {
      "text/plain": [
       "Maria\n"
      ]
     },
     "metadata": {},
     "output_type": "display_data"
    }
   ],
   "source": [
    "pessoa2"
   ]
  },
  {
   "cell_type": "code",
   "execution_count": 46,
   "metadata": {},
   "outputs": [
    {
     "data": {
      "text/plain": [
       "Ana\n"
      ]
     },
     "metadata": {},
     "output_type": "display_data"
    }
   ],
   "source": [
    "pessoa3"
   ]
  },
  {
   "cell_type": "code",
   "execution_count": 48,
   "metadata": {},
   "outputs": [
    {
     "data": {
      "text/plain": [
       "Melancia\n",
       "Melancia\n",
       "Melancia\n"
      ]
     },
     "metadata": {},
     "output_type": "display_data"
    }
   ],
   "source": [
    "# No caso abaixo, em vez de criar 3 variáveis com valores diferentes, temos 3 variáveis com o mesmo valor:\n",
    "\n",
    "fruta1 = fruta2 = fruta3 = 'Melancia'\n",
    "print(fruta1)\n",
    "print(fruta2)\n",
    "print(fruta3)\n"
   ]
  },
  {
   "cell_type": "code",
   "execution_count": 49,
   "metadata": {},
   "outputs": [
    {
     "data": {
      "text/plain": [
       "Traceback (most recent call last):\n",
       "  File \"c:\\Users\\Pedro\\.vscode\\extensions\\ms-python.python-2024.22.2-win32-x64\\python_files\\python_server.py\", line 133, in exec_user_input\n",
       "    retval = callable_(user_input, user_globals)\n",
       "             ^^^^^^^^^^^^^^^^^^^^^^^^^^^^^^^^^^^\n",
       "  File \"<string>\", line 3, in <module>\n",
       "NameError: name 'Fruta2' is not defined\n",
       "\n"
      ]
     },
     "metadata": {},
     "output_type": "display_data"
    }
   ],
   "source": [
    "# Ponto de atenção: Python é case-sensitive\n",
    "\n",
    "Fruta2"
   ]
  },
  {
   "cell_type": "markdown",
   "metadata": {},
   "source": [
    "-----------------\n",
    "\n",
    "Algumas regras de nomeação de variável:\n",
    "\n",
    "- Não é possível começar nome de variável com número\n",
    "- Nâo é possível usar palavras reservadas como nome de variável\n",
    "\n",
    "------------------"
   ]
  },
  {
   "cell_type": "markdown",
   "metadata": {},
   "source": [
    "### Variáveis atribuídas a outras variáveis e ordem dos operadores"
   ]
  },
  {
   "cell_type": "code",
   "execution_count": 50,
   "metadata": {},
   "outputs": [],
   "source": [
    "largura = 2"
   ]
  },
  {
   "cell_type": "code",
   "execution_count": 51,
   "metadata": {},
   "outputs": [],
   "source": [
    "altura = 4"
   ]
  },
  {
   "cell_type": "code",
   "execution_count": 56,
   "metadata": {},
   "outputs": [
    {
     "data": {
      "text/plain": [
       "8"
      ]
     },
     "execution_count": 56,
     "metadata": {},
     "output_type": "execute_result"
    }
   ],
   "source": [
    "area = largura * altura\n",
    "area"
   ]
  },
  {
   "cell_type": "code",
   "execution_count": 60,
   "metadata": {},
   "outputs": [
    {
     "data": {
      "text/plain": [
       "Traceback (most recent call last):\n",
       "  File \"c:\\Users\\Pedro\\.vscode\\extensions\\ms-python.python-2024.22.2-win32-x64\\python_files\\python_server.py\", line 133, in exec_user_input\n",
       "    retval = callable_(user_input, user_globals)\n",
       "             ^^^^^^^^^^^^^^^^^^^^^^^^^^^^^^^^^^^\n",
       "  File \"<string>\", line 4, in <module>\n",
       "NameError: name 'perimetro1' is not defined\n",
       "\n"
      ]
     },
     "metadata": {},
     "output_type": "display_data"
    }
   ],
   "source": [
    "# O Python segue a ordem dos operadores da matemática:\n",
    "\n",
    "perimetro = 2 * largura + 2 * altura\n",
    "print(f'Sem parêntesis: {perimetro1}')\n",
    "\n",
    "perimetro = 2 * (largura + 2) * altura\n",
    "print(f'Com parêntesis: {perimetro}')"
   ]
  },
  {
   "cell_type": "markdown",
   "metadata": {},
   "source": [
    "### Operações com variáveis"
   ]
  },
  {
   "cell_type": "code",
   "execution_count": 61,
   "metadata": {},
   "outputs": [],
   "source": [
    "idade1 = 25\n",
    "idade2 = 35"
   ]
  },
  {
   "cell_type": "code",
   "execution_count": 63,
   "metadata": {},
   "outputs": [
    {
     "data": {
      "text/plain": [
       "60\n"
      ]
     },
     "metadata": {},
     "output_type": "display_data"
    }
   ],
   "source": [
    "idade1 + idade2"
   ]
  },
  {
   "cell_type": "code",
   "execution_count": 64,
   "metadata": {},
   "outputs": [
    {
     "data": {
      "text/plain": [
       "10\n"
      ]
     },
     "metadata": {},
     "output_type": "display_data"
    }
   ],
   "source": [
    "idade2 - idade1"
   ]
  },
  {
   "cell_type": "code",
   "execution_count": 65,
   "metadata": {},
   "outputs": [
    {
     "data": {
      "text/plain": [
       "875\n"
      ]
     },
     "metadata": {},
     "output_type": "display_data"
    }
   ],
   "source": [
    "idade2 * idade1"
   ]
  },
  {
   "cell_type": "code",
   "execution_count": 66,
   "metadata": {},
   "outputs": [
    {
     "data": {
      "text/plain": [
       "1.4\n"
      ]
     },
     "metadata": {},
     "output_type": "display_data"
    }
   ],
   "source": [
    "idade2 / idade1"
   ]
  },
  {
   "cell_type": "code",
   "execution_count": 67,
   "metadata": {},
   "outputs": [
    {
     "data": {
      "text/plain": [
       "10\n"
      ]
     },
     "metadata": {},
     "output_type": "display_data"
    }
   ],
   "source": [
    "idade2 % idade1"
   ]
  },
  {
   "cell_type": "markdown",
   "metadata": {},
   "source": [
    "### Concatenação de Variáveis"
   ]
  },
  {
   "cell_type": "code",
   "execution_count": 69,
   "metadata": {},
   "outputs": [
    {
     "data": {
      "text/plain": [
       "'Bob Marley'"
      ]
     },
     "execution_count": 69,
     "metadata": {},
     "output_type": "execute_result"
    }
   ],
   "source": [
    "# Em variáveis de tipo string, o sinal de + concatena:\n",
    "\n",
    "nome= 'Bob'\n",
    "sobrenome = 'Marley'\n",
    "fullName = nome + ' ' + sobrenome\n",
    "fullName"
   ]
  },
  {
   "cell_type": "markdown",
   "metadata": {},
   "source": [
    "## 3. Strings e indexação"
   ]
  },
  {
   "cell_type": "markdown",
   "metadata": {},
   "source": [
    "- Strings são criadas em Python usando aspas simples ou duplas.\n",
    "- O Python sempre imprime em aspas simples, a não ser que a string utilize os dois tipos.\n",
    "- Elas podem ser uma única palavra, um único caractere ou várias palavras."
   ]
  },
  {
   "cell_type": "code",
   "execution_count": 71,
   "metadata": {},
   "outputs": [
    {
     "data": {
      "text/plain": [
       "Olá\n"
      ]
     },
     "metadata": {},
     "output_type": "display_data"
    }
   ],
   "source": [
    "# String criada com aspas duplas, impressa em aspas simples:\n",
    "\"Olá\""
   ]
  },
  {
   "cell_type": "code",
   "execution_count": 72,
   "metadata": {},
   "outputs": [
    {
     "data": {
      "text/plain": [
       "Testando strings em 'Python'\n"
      ]
     },
     "metadata": {},
     "output_type": "display_data"
    }
   ],
   "source": [
    "# String criada com aspas simples e duplas, impressa com ambas:\n",
    "\"Testando strings em 'Python'\""
   ]
  },
  {
   "cell_type": "markdown",
   "metadata": {},
   "source": [
    "### Imprimindo uma string"
   ]
  },
  {
   "cell_type": "code",
   "execution_count": 73,
   "metadata": {},
   "outputs": [
    {
     "data": {
      "text/plain": [
       "Testando strings em Python\n"
      ]
     },
     "metadata": {},
     "output_type": "display_data"
    }
   ],
   "source": [
    "print('Testando strings em Python')"
   ]
  },
  {
   "cell_type": "code",
   "execution_count": 75,
   "metadata": {},
   "outputs": [
    {
     "data": {
      "text/plain": [
       "Testando \n",
       " strings \n",
       "  em \n",
       " Python\n"
      ]
     },
     "metadata": {},
     "output_type": "display_data"
    }
   ],
   "source": [
    "# Caractere `\\n` é equivalente ao enter. Note que o espaço também é impresso:\n",
    "print('Testando \\n strings \\n  em \\n Python')"
   ]
  },
  {
   "cell_type": "code",
   "execution_count": 76,
   "metadata": {},
   "outputs": [
    {
     "data": {
      "text/plain": [
       "\n",
       "\n"
      ]
     },
     "metadata": {},
     "output_type": "display_data"
    }
   ],
   "source": [
    "# Também é possível imprimir apenas o caractere `\\n`:\n",
    "print('\\n')"
   ]
  },
  {
   "cell_type": "markdown",
   "metadata": {},
   "source": [
    "### Indexando strings"
   ]
  },
  {
   "cell_type": "markdown",
   "metadata": {},
   "source": [
    "- Cada caractere de uma string no Python recebe um índice\n",
    "- O índice no Python começa por 0"
   ]
  },
  {
   "cell_type": "code",
   "execution_count": 77,
   "metadata": {},
   "outputs": [
    {
     "data": {
      "text/plain": [
       "Data Science Academy\n"
      ]
     },
     "metadata": {},
     "output_type": "display_data"
    }
   ],
   "source": [
    "s = 'Data Science Academy'\n",
    "print(s)"
   ]
  },
  {
   "cell_type": "code",
   "execution_count": 84,
   "metadata": {},
   "outputs": [
    {
     "data": {
      "text/plain": [
       "D\n"
      ]
     },
     "metadata": {},
     "output_type": "display_data"
    }
   ],
   "source": [
    "# Primeiro elemento da string:\n",
    "s[0]"
   ]
  },
  {
   "cell_type": "code",
   "execution_count": 85,
   "metadata": {},
   "outputs": [
    {
     "data": {
      "text/plain": [
       "a\n"
      ]
     },
     "metadata": {},
     "output_type": "display_data"
    }
   ],
   "source": [
    "s[1]"
   ]
  },
  {
   "cell_type": "code",
   "execution_count": 86,
   "metadata": {},
   "outputs": [
    {
     "data": {
      "text/plain": [
       "t\n"
      ]
     },
     "metadata": {},
     "output_type": "display_data"
    }
   ],
   "source": [
    "s[2]"
   ]
  },
  {
   "cell_type": "code",
   "execution_count": 87,
   "metadata": {},
   "outputs": [
    {
     "data": {
      "text/plain": [
       "a\n"
      ]
     },
     "metadata": {},
     "output_type": "display_data"
    }
   ],
   "source": [
    "s[3]"
   ]
  },
  {
   "cell_type": "markdown",
   "metadata": {},
   "source": [
    "- Também é possível \"fatiar\" (slice) a string, usando :\n",
    "- Nesse caso, você faz uma busca usando um intervalo de itens da string.\n",
    "- Isso serve para vários tipos de variáveis, não apenas string"
   ]
  },
  {
   "cell_type": "code",
   "execution_count": 88,
   "metadata": {},
   "outputs": [
    {
     "data": {
      "text/plain": [
       "ata Science Academy\n"
      ]
     },
     "metadata": {},
     "output_type": "display_data"
    }
   ],
   "source": [
    "# Retorna todos os elementos da string a partir da posição dada até o fim da string\n",
    "s[1:]"
   ]
  },
  {
   "cell_type": "code",
   "execution_count": 90,
   "metadata": {},
   "outputs": [
    {
     "data": {
      "text/plain": [
       "Data Science Academy\n"
      ]
     },
     "metadata": {},
     "output_type": "display_data"
    }
   ],
   "source": [
    "# Isso não altera a string original:\n",
    "s"
   ]
  },
  {
   "cell_type": "code",
   "execution_count": 92,
   "metadata": {},
   "outputs": [
    {
     "data": {
      "text/plain": [
       "Dat\n"
      ]
     },
     "metadata": {},
     "output_type": "display_data"
    }
   ],
   "source": [
    "# Retorna tudo até a posição 3, de maneira exclusiva (o índice 3 não entra no corte)\n",
    "s[:3]"
   ]
  },
  {
   "cell_type": "code",
   "execution_count": 93,
   "metadata": {},
   "outputs": [
    {
     "data": {
      "text/plain": [
       "y\n"
      ]
     },
     "metadata": {},
     "output_type": "display_data"
    }
   ],
   "source": [
    "# Também é possível ler de trás para frente com indexação negativa:\n",
    "s[-1]"
   ]
  },
  {
   "cell_type": "code",
   "execution_count": 94,
   "metadata": {},
   "outputs": [
    {
     "data": {
      "text/plain": [
       "Data Science Academ\n"
      ]
     },
     "metadata": {},
     "output_type": "display_data"
    }
   ],
   "source": [
    "# Retornar tudo, exceto a última letra:\n",
    "s[:-1]"
   ]
  },
  {
   "cell_type": "markdown",
   "metadata": {},
   "source": [
    "Também é possível fatiar em pedações específicos. Por padrão, o slicer pega os caracteres de 1 em 1. Porém, usando :: em vez de:, é possível determinar que ele deve pegar de n em n caracteres:"
   ]
  },
  {
   "cell_type": "code",
   "execution_count": 96,
   "metadata": {},
   "outputs": [
    {
     "data": {
      "text/plain": [
       "Data Science Academy\n"
      ]
     },
     "metadata": {},
     "output_type": "display_data"
    }
   ],
   "source": [
    "s[::1]"
   ]
  },
  {
   "cell_type": "code",
   "execution_count": 97,
   "metadata": {},
   "outputs": [
    {
     "data": {
      "text/plain": [
       "Dt cec cdm\n"
      ]
     },
     "metadata": {},
     "output_type": "display_data"
    }
   ],
   "source": [
    "s[::2]"
   ]
  },
  {
   "cell_type": "code",
   "execution_count": 100,
   "metadata": {},
   "outputs": [
    {
     "data": {
      "text/plain": [
       "ymedacA ecneicS ataD\n"
      ]
     },
     "metadata": {},
     "output_type": "display_data"
    }
   ],
   "source": [
    "# Usando :: e colocando indexação negativa, é possível trazer os caracteres de trás para frente\n",
    "s[::-1]"
   ]
  },
  {
   "cell_type": "markdown",
   "metadata": {},
   "source": [
    "### Propriedades de Strings"
   ]
  },
  {
   "cell_type": "code",
   "execution_count": 103,
   "metadata": {},
   "outputs": [
    {
     "data": {
      "text/plain": [
       "Traceback (most recent call last):\n",
       "  File \"c:\\Users\\Pedro\\.vscode\\extensions\\ms-python.python-2024.22.2-win32-x64\\python_files\\python_server.py\", line 133, in exec_user_input\n",
       "    retval = callable_(user_input, user_globals)\n",
       "             ^^^^^^^^^^^^^^^^^^^^^^^^^^^^^^^^^^^\n",
       "  File \"<string>\", line 3, in <module>\n",
       "TypeError: 'str' object does not support item assignment\n",
       "\n"
      ]
     },
     "metadata": {},
     "output_type": "display_data"
    }
   ],
   "source": [
    "# String é um objeto imutável, não é possível alterar um elemento, apenas a string completa:\n",
    "\n",
    "s[0] = 'x'"
   ]
  },
  {
   "cell_type": "code",
   "execution_count": 114,
   "metadata": {},
   "outputs": [
    {
     "data": {
      "text/plain": [
       "Data Science Academy é a melhor maneira de estar preparado\n"
      ]
     },
     "metadata": {},
     "output_type": "display_data"
    }
   ],
   "source": [
    "# É possível concatenar strings com `+`:\n",
    "\n",
    "s + ' é a melhor maneira de estar preparado'"
   ]
  },
  {
   "cell_type": "code",
   "execution_count": 115,
   "metadata": {},
   "outputs": [
    {
     "data": {
      "text/plain": [
       "Data Science Academy é a melhor maneira de estar preparado\n"
      ]
     },
     "metadata": {},
     "output_type": "display_data"
    }
   ],
   "source": [
    "# No exemplo anterior, não alteramos a string, apenas printamos. Abaixo, modificamos:\n",
    "\n",
    "s= s + ' é a melhor maneira de estar preparado'\n",
    "print(s)"
   ]
  },
  {
   "cell_type": "code",
   "execution_count": 109,
   "metadata": {},
   "outputs": [
    {
     "data": {
      "text/plain": [
       "'ppp'"
      ]
     },
     "execution_count": 109,
     "metadata": {},
     "output_type": "execute_result"
    }
   ],
   "source": [
    "# Assim como acontece com o `+`, é possível usar `*` para manipular a string.\n",
    "# O * repete a string pelo número de vezes indicado:\n",
    "\n",
    "letra = 'p'\n",
    "letra * 3"
   ]
  },
  {
   "cell_type": "markdown",
   "metadata": {},
   "source": [
    "### Funções Bult-in de Strings"
   ]
  },
  {
   "cell_type": "markdown",
   "metadata": {},
   "source": [
    "- Python é uma linguagem orientada a objetos. Isso significa, por exemplo, que a variável `s` que criamos é uma variável do tipo string e um objetivo da classe string.\n",
    "\n",
    "- Cada objeto tem métodos e atributos com os quais podemos trabalhá-los. No VSCode, basta digitar . após o nome do objeto que aparece uma lista de métodos e atributos disponíveis."
   ]
  },
  {
   "cell_type": "code",
   "execution_count": 118,
   "metadata": {},
   "outputs": [
    {
     "data": {
      "text/plain": [
       "Data Science Academy é a melhor maneira de estar preparado\n"
      ]
     },
     "metadata": {},
     "output_type": "display_data"
    }
   ],
   "source": [
    "s"
   ]
  },
  {
   "cell_type": "code",
   "execution_count": 124,
   "metadata": {},
   "outputs": [
    {
     "data": {
      "text/plain": [
       "DATA SCIENCE ACADEMY É A MELHOR MANEIRA DE ESTAR PREPARADO\n"
      ]
     },
     "metadata": {},
     "output_type": "display_data"
    }
   ],
   "source": [
    "# Upper Case\n",
    "# O método deve ser chamado com parênteses no final:\n",
    "s.upper()"
   ]
  },
  {
   "cell_type": "code",
   "execution_count": 125,
   "metadata": {},
   "outputs": [
    {
     "data": {
      "text/plain": [
       "Data Science Academy é a melhor maneira de estar preparado\n"
      ]
     },
     "metadata": {},
     "output_type": "display_data"
    }
   ],
   "source": [
    "# Note que ele não alterou a string, apenas printou de um jeito diferente:\n",
    "s"
   ]
  },
  {
   "cell_type": "code",
   "execution_count": 126,
   "metadata": {},
   "outputs": [
    {
     "data": {
      "text/plain": [
       "data science academy é a melhor maneira de estar preparado\n"
      ]
     },
     "metadata": {},
     "output_type": "display_data"
    }
   ],
   "source": [
    "# Lower Case\n",
    "s.lower()"
   ]
  },
  {
   "cell_type": "code",
   "execution_count": 127,
   "metadata": {},
   "outputs": [
    {
     "data": {
      "text/plain": [
       "['Data', 'Science', 'Academy', 'é', 'a', 'melhor', 'maneira', 'de', 'estar', 'preparado']\n"
      ]
     },
     "metadata": {},
     "output_type": "display_data"
    }
   ],
   "source": [
    "# Dividir uma string por espaços em branco (padrão)\n",
    "s.split()"
   ]
  },
  {
   "cell_type": "code",
   "execution_count": 129,
   "metadata": {},
   "outputs": [
    {
     "data": {
      "text/plain": [
       "['Data Science Academ', ' é a melhor maneira de estar preparado']\n"
      ]
     },
     "metadata": {},
     "output_type": "display_data"
    }
   ],
   "source": [
    "# Dividir uma string por um elemento específico\n",
    "# Note que o elemento divisor desaparece do resultado\n",
    "\n",
    "s.split('y')"
   ]
  },
  {
   "cell_type": "markdown",
   "metadata": {},
   "source": [
    "### Funções String"
   ]
  },
  {
   "cell_type": "code",
   "execution_count": 130,
   "metadata": {},
   "outputs": [
    {
     "data": {
      "text/plain": [
       "'Seja bem-vindo ao universo da Linguagem Python'"
      ]
     },
     "execution_count": 130,
     "metadata": {},
     "output_type": "execute_result"
    }
   ],
   "source": [
    "# Sobrescrevemos o valor de `s`\n",
    "\n",
    "s = 'Seja bem-vindo ao universo da Linguagem Python'\n",
    "s"
   ]
  },
  {
   "cell_type": "code",
   "execution_count": 131,
   "metadata": {},
   "outputs": [
    {
     "data": {
      "text/plain": [
       "Seja bem-vindo ao universo da linguagem python\n"
      ]
     },
     "metadata": {},
     "output_type": "display_data"
    }
   ],
   "source": [
    "# Colocar apenas a primeira letra a string em maiúsculo\n",
    "\n",
    "s.capitalize()"
   ]
  },
  {
   "cell_type": "code",
   "execution_count": 132,
   "metadata": {},
   "outputs": [
    {
     "data": {
      "text/plain": [
       "4\n"
      ]
     },
     "metadata": {},
     "output_type": "display_data"
    }
   ],
   "source": [
    "# Contar quantas vezes aparece um determinado caractere\n",
    "\n",
    "s.count('a')"
   ]
  },
  {
   "cell_type": "code",
   "execution_count": 133,
   "metadata": {},
   "outputs": [
    {
     "data": {
      "text/plain": [
       "False\n"
      ]
     },
     "metadata": {},
     "output_type": "display_data"
    }
   ],
   "source": [
    "# Verificar se a string é completamente composta por números\n",
    "\n",
    "s.isalnum()"
   ]
  },
  {
   "cell_type": "code",
   "execution_count": 134,
   "metadata": {},
   "outputs": [
    {
     "data": {
      "text/plain": [
       "False\n"
      ]
     },
     "metadata": {},
     "output_type": "display_data"
    }
   ],
   "source": [
    "# Verificar se a string é completamente em letras minúsculas\n",
    "s.islower()"
   ]
  },
  {
   "cell_type": "code",
   "execution_count": 135,
   "metadata": {},
   "outputs": [
    {
     "data": {
      "text/plain": [
       "False\n"
      ]
     },
     "metadata": {},
     "output_type": "display_data"
    }
   ],
   "source": [
    "# Verificar se a string é toda de espaço\n",
    "s.isspace()"
   ]
  },
  {
   "cell_type": "code",
   "execution_count": 138,
   "metadata": {},
   "outputs": [
    {
     "data": {
      "text/plain": [
       "False\n"
      ]
     },
     "metadata": {},
     "output_type": "display_data"
    }
   ],
   "source": [
    "# Verificar se a string termina com \"o\"\n",
    "s.endswith('o')"
   ]
  },
  {
   "cell_type": "markdown",
   "metadata": {},
   "source": [
    "### Comparando strings"
   ]
  },
  {
   "cell_type": "code",
   "execution_count": 139,
   "metadata": {},
   "outputs": [
    {
     "data": {
      "text/plain": [
       "False\n"
      ]
     },
     "metadata": {},
     "output_type": "display_data"
    }
   ],
   "source": [
    "print('Python' == 'R')"
   ]
  },
  {
   "cell_type": "code",
   "execution_count": 143,
   "metadata": {},
   "outputs": [
    {
     "data": {
      "text/plain": [
       "True\n"
      ]
     },
     "metadata": {},
     "output_type": "display_data"
    }
   ],
   "source": [
    "print('Python' == 'Python')"
   ]
  },
  {
   "cell_type": "markdown",
   "metadata": {},
   "source": [
    "## 4. Trabalhando com listas"
   ]
  },
  {
   "cell_type": "code",
   "execution_count": 4,
   "metadata": {},
   "outputs": [],
   "source": [
    "# Uma lista é caracterizada no Python por colchetes []\n",
    "# Na lista abaixo, temos uma string com vários valores\n",
    "lista_1 = ['arroz,frango,tomate,leite']"
   ]
  },
  {
   "cell_type": "code",
   "execution_count": 2,
   "metadata": {},
   "outputs": [
    {
     "data": {
      "text/plain": [
       "<class 'list'>\n"
      ]
     },
     "metadata": {},
     "output_type": "display_data"
    }
   ],
   "source": [
    "type(lista_1)"
   ]
  },
  {
   "cell_type": "code",
   "execution_count": 3,
   "metadata": {},
   "outputs": [
    {
     "data": {
      "text/plain": [
       "['arroz,frango,tomate,leite']\n"
      ]
     },
     "metadata": {},
     "output_type": "display_data"
    }
   ],
   "source": [
    "# Imprimindo a lista\n",
    "print(lista_1)"
   ]
  },
  {
   "cell_type": "code",
   "execution_count": 5,
   "metadata": {},
   "outputs": [],
   "source": [
    "# Agora, vamos criar uma lista com 4 strings separadas\n",
    "lista_2 = ['arroz','frango','tomate','leite']"
   ]
  },
  {
   "cell_type": "code",
   "execution_count": 6,
   "metadata": {},
   "outputs": [
    {
     "data": {
      "text/plain": [
       "<class 'list'>\n"
      ]
     },
     "metadata": {},
     "output_type": "display_data"
    }
   ],
   "source": [
    "type(lista_2)"
   ]
  },
  {
   "cell_type": "code",
   "execution_count": 8,
   "metadata": {},
   "outputs": [
    {
     "data": {
      "text/plain": [
       "['arroz', 'frango', 'tomate', 'leite']\n"
      ]
     },
     "metadata": {},
     "output_type": "display_data"
    }
   ],
   "source": [
    "# Note que o resultado do print é diferente:\n",
    "print(lista_2)"
   ]
  },
  {
   "cell_type": "code",
   "execution_count": 10,
   "metadata": {},
   "outputs": [
    {
     "data": {
      "text/plain": [
       "list"
      ]
     },
     "execution_count": 10,
     "metadata": {},
     "output_type": "execute_result"
    }
   ],
   "source": [
    "# É possível criar listas com tipos diferentes de dados (números e strings, por exemplo)\n",
    "lista_3 = [23,100,'Cientista de Dados']\n",
    "type(lista_3)"
   ]
  },
  {
   "cell_type": "code",
   "execution_count": 11,
   "metadata": {},
   "outputs": [
    {
     "data": {
      "text/plain": [
       "[23, 100, 'Cientista de Dados']\n"
      ]
     },
     "metadata": {},
     "output_type": "display_data"
    }
   ],
   "source": [
    "print(lista_3)"
   ]
  },
  {
   "cell_type": "code",
   "execution_count": 15,
   "metadata": {},
   "outputs": [
    {
     "data": {
      "text/plain": [
       "23 100 Cientista de Dados\n"
      ]
     },
     "metadata": {},
     "output_type": "display_data"
    }
   ],
   "source": [
    "# É possível atribuir cada valor da lista a uma variável.\n",
    "# Para isso, usamos indexação:\n",
    "\n",
    "item1 = lista_3[0]\n",
    "item2 = lista_3[1]\n",
    "item3 = lista_3[2]\n",
    "\n",
    "print(item1,item2,item3)"
   ]
  },
  {
   "cell_type": "code",
   "execution_count": 16,
   "metadata": {},
   "outputs": [
    {
     "data": {
      "text/plain": [
       "Traceback (most recent call last):\n",
       "  File \"c:\\Users\\Pedro\\.vscode\\extensions\\ms-python.python-2024.22.2-win32-x64\\python_files\\python_server.py\", line 133, in exec_user_input\n",
       "    retval = callable_(user_input, user_globals)\n",
       "             ^^^^^^^^^^^^^^^^^^^^^^^^^^^^^^^^^^^\n",
       "  File \"<string>\", line 5, in <module>\n",
       "IndexError: list index out of range\n",
       "\n"
      ]
     },
     "metadata": {},
     "output_type": "display_data"
    }
   ],
   "source": [
    "# Note que se tentarmos fazer isso com a lista_1 teremos erro\n",
    "# Isso porque a lista_1 tem apenas 1 string como elemento\n",
    "\n",
    "item1 = lista_1[0]\n",
    "item2 = lista_1[1]\n",
    "item3 = lista_1[2]\n",
    "\n",
    "print(item1,item2,item3)"
   ]
  },
  {
   "cell_type": "markdown",
   "metadata": {},
   "source": [
    "### Alterando um item da lista"
   ]
  },
  {
   "cell_type": "code",
   "execution_count": 18,
   "metadata": {},
   "outputs": [
    {
     "data": {
      "text/plain": [
       "['arroz', 'frango', 'tomate', 'leite']\n"
      ]
     },
     "metadata": {},
     "output_type": "display_data"
    }
   ],
   "source": [
    "lista_2"
   ]
  },
  {
   "cell_type": "code",
   "execution_count": 19,
   "metadata": {},
   "outputs": [
    {
     "data": {
      "text/plain": [
       "tomate\n"
      ]
     },
     "metadata": {},
     "output_type": "display_data"
    }
   ],
   "source": [
    "lista_2[2]"
   ]
  },
  {
   "cell_type": "code",
   "execution_count": 23,
   "metadata": {},
   "outputs": [],
   "source": [
    "lista_2[2] = 'chocolate'"
   ]
  },
  {
   "cell_type": "code",
   "execution_count": 24,
   "metadata": {},
   "outputs": [
    {
     "data": {
      "text/plain": [
       "chocolate\n"
      ]
     },
     "metadata": {},
     "output_type": "display_data"
    }
   ],
   "source": [
    "lista_2[2]"
   ]
  },
  {
   "cell_type": "code",
   "execution_count": 25,
   "metadata": {},
   "outputs": [
    {
     "data": {
      "text/plain": [
       "['arroz', 'frango', 'chocolate', 'leite']\n"
      ]
     },
     "metadata": {},
     "output_type": "display_data"
    }
   ],
   "source": [
    "lista_2"
   ]
  },
  {
   "cell_type": "markdown",
   "metadata": {},
   "source": [
    "### Deletando um item da lista"
   ]
  },
  {
   "cell_type": "code",
   "execution_count": 26,
   "metadata": {},
   "outputs": [
    {
     "data": {
      "text/plain": [
       "['arroz', 'frango', 'chocolate', 'leite']\n"
      ]
     },
     "metadata": {},
     "output_type": "display_data"
    }
   ],
   "source": [
    "lista_2"
   ]
  },
  {
   "cell_type": "code",
   "execution_count": 27,
   "metadata": {},
   "outputs": [
    {
     "data": {
      "text/plain": [
       "Traceback (most recent call last):\n",
       "  File \"c:\\Users\\Pedro\\.vscode\\extensions\\ms-python.python-2024.22.2-win32-x64\\python_files\\python_server.py\", line 133, in exec_user_input\n",
       "    retval = callable_(user_input, user_globals)\n",
       "             ^^^^^^^^^^^^^^^^^^^^^^^^^^^^^^^^^^^\n",
       "  File \"<string>\", line 2, in <module>\n",
       "IndexError: list assignment index out of range\n",
       "\n"
      ]
     },
     "metadata": {},
     "output_type": "display_data"
    }
   ],
   "source": [
    "# Não é possível deletar um item que não existe na lista:\n",
    "del lista_2[4]"
   ]
  },
  {
   "cell_type": "code",
   "execution_count": 28,
   "metadata": {},
   "outputs": [
    {
     "data": {
      "text/plain": [
       "['arroz', 'frango', 'chocolate']"
      ]
     },
     "execution_count": 28,
     "metadata": {},
     "output_type": "execute_result"
    }
   ],
   "source": [
    "# Agora sim, deletando com o índice correto:\n",
    "\n",
    "del lista_2[3]\n",
    "lista_2"
   ]
  },
  {
   "cell_type": "markdown",
   "metadata": {},
   "source": [
    "### Listas de listas (listas aninhadas)"
   ]
  },
  {
   "cell_type": "markdown",
   "metadata": {},
   "source": [
    "São matrizes no Python"
   ]
  },
  {
   "cell_type": "code",
   "execution_count": 29,
   "metadata": {},
   "outputs": [
    {
     "data": {
      "text/plain": [
       "[[1, 2, 3], [10, 15, 14], [10.1, 8.7, 2.3]]\n"
      ]
     },
     "metadata": {},
     "output_type": "display_data"
    }
   ],
   "source": [
    "# Criando uma lista de listas:\n",
    "listas = [[1,2,3], [10,15,14], [10.1,8.7,2.3]]\n",
    "print(listas)"
   ]
  },
  {
   "cell_type": "code",
   "execution_count": 33,
   "metadata": {},
   "outputs": [
    {
     "data": {
      "text/plain": [
       "[1, 2, 3]"
      ]
     },
     "execution_count": 33,
     "metadata": {},
     "output_type": "execute_result"
    }
   ],
   "source": [
    "# Atribuindo um item da lista a uma variável:\n",
    "a = listas[0]\n",
    "a"
   ]
  },
  {
   "cell_type": "code",
   "execution_count": 31,
   "metadata": {},
   "outputs": [
    {
     "data": {
      "text/plain": [
       "1"
      ]
     },
     "execution_count": 31,
     "metadata": {},
     "output_type": "execute_result"
    }
   ],
   "source": [
    "# Agora, atribuímos a `b` o primeiro item de `a`\n",
    "b = a[0]\n",
    "b"
   ]
  },
  {
   "cell_type": "code",
   "execution_count": 36,
   "metadata": {},
   "outputs": [
    {
     "data": {
      "text/plain": [
       "[10, 15, 14]"
      ]
     },
     "execution_count": 36,
     "metadata": {},
     "output_type": "execute_result"
    }
   ],
   "source": [
    "# Vamos fazer o mesmo com o segundo elemento de `listas`\n",
    "list1 = listas[1]\n",
    "list1"
   ]
  },
  {
   "cell_type": "code",
   "execution_count": 37,
   "metadata": {},
   "outputs": [
    {
     "data": {
      "text/plain": [
       "10"
      ]
     },
     "execution_count": 37,
     "metadata": {},
     "output_type": "execute_result"
    }
   ],
   "source": [
    "valor_1_0 = list1[0]\n",
    "valor_1_0"
   ]
  },
  {
   "cell_type": "markdown",
   "metadata": {},
   "source": [
    "O jeito ideal de fazer isso é transformando em matriz (pacote Numpy) ou dataframe (pacote Pandas)."
   ]
  },
  {
   "cell_type": "markdown",
   "metadata": {},
   "source": [
    "### Operações com listas"
   ]
  },
  {
   "cell_type": "code",
   "execution_count": 43,
   "metadata": {},
   "outputs": [
    {
     "data": {
      "text/plain": [
       "[[1, 2, 3], [10, 15, 14], [10.1, 8.7, 2.3]]\n",
       "1\n",
       "14\n"
      ]
     },
     "metadata": {},
     "output_type": "display_data"
    }
   ],
   "source": [
    "# Também é possível fazer essa atribuição de variável que fizemos lá em cima com anotação direta:\n",
    "print(listas)\n",
    "a = listas[0][0]\n",
    "print(a)\n",
    "\n",
    "b = listas[1][2]\n",
    "print(b)"
   ]
  },
  {
   "cell_type": "code",
   "execution_count": 44,
   "metadata": {},
   "outputs": [
    {
     "data": {
      "text/plain": [
       "13"
      ]
     },
     "execution_count": 44,
     "metadata": {},
     "output_type": "execute_result"
    }
   ],
   "source": [
    "# Também é possível fazer uma operação aritmética enquanto fazemos o slice\n",
    "\n",
    "c = listas[0][2] + 10\n",
    "c"
   ]
  },
  {
   "cell_type": "code",
   "execution_count": 46,
   "metadata": {},
   "outputs": [
    {
     "data": {
      "text/plain": [
       "101.0"
      ]
     },
     "execution_count": 46,
     "metadata": {},
     "output_type": "execute_result"
    }
   ],
   "source": [
    "# Isso também pode ser feito com uma nova variável\n",
    "\n",
    "d = 10\n",
    "e = d * listas[2][0]\n",
    "e"
   ]
  },
  {
   "cell_type": "markdown",
   "metadata": {},
   "source": [
    "### Concatenando listas"
   ]
  },
  {
   "cell_type": "code",
   "execution_count": 48,
   "metadata": {},
   "outputs": [
    {
     "data": {
      "text/plain": [
       "[34, 32, 56]"
      ]
     },
     "execution_count": 48,
     "metadata": {},
     "output_type": "execute_result"
    }
   ],
   "source": [
    "lista_s1 = [34,32,56]\n",
    "lista_s1"
   ]
  },
  {
   "cell_type": "code",
   "execution_count": 57,
   "metadata": {},
   "outputs": [
    {
     "data": {
      "text/plain": [
       "[21, 90, 51]"
      ]
     },
     "execution_count": 57,
     "metadata": {},
     "output_type": "execute_result"
    }
   ],
   "source": [
    "lista_s2 = [21,90,51]\n",
    "lista_s2"
   ]
  },
  {
   "cell_type": "code",
   "execution_count": 58,
   "metadata": {},
   "outputs": [
    {
     "data": {
      "text/plain": [
       "[34, 32, 56, 21, 90, 51]"
      ]
     },
     "execution_count": 58,
     "metadata": {},
     "output_type": "execute_result"
    }
   ],
   "source": [
    "# Concatenamos listas com o caractere `+`\n",
    "# O Python junta os elementos das duas lista em uma só. Se houver elemento repetido, ele repete.\n",
    "lista_total = lista_s1 + lista_s2\n",
    "lista_total"
   ]
  },
  {
   "cell_type": "markdown",
   "metadata": {},
   "source": [
    "### Operador in"
   ]
  },
  {
   "cell_type": "markdown",
   "metadata": {},
   "source": [
    "Verifica se um determinado valor está na lista"
   ]
  },
  {
   "cell_type": "code",
   "execution_count": 62,
   "metadata": {},
   "outputs": [
    {
     "data": {
      "text/plain": [
       "False\n",
       "True\n"
      ]
     },
     "metadata": {},
     "output_type": "display_data"
    }
   ],
   "source": [
    "lista_teste_op = [100,2,-5,3.4]\n",
    "\n",
    "#Verifica se 10 está na lista\n",
    "print(10 in lista_teste_op)\n",
    "\n",
    "#Verifica se 100 está na lista\n",
    "print(100 in lista_teste_op)"
   ]
  },
  {
   "cell_type": "markdown",
   "metadata": {},
   "source": [
    "### Funções Built-in de lista"
   ]
  },
  {
   "cell_type": "code",
   "execution_count": 96,
   "metadata": {},
   "outputs": [],
   "source": [
    "lista_numeros = [10,20,50,-3.4]"
   ]
  },
  {
   "cell_type": "code",
   "execution_count": 97,
   "metadata": {},
   "outputs": [
    {
     "data": {
      "text/plain": [
       "50\n"
      ]
     },
     "metadata": {},
     "output_type": "display_data"
    }
   ],
   "source": [
    "# Retorna valor máximo da lista\n",
    "max(lista_numeros)"
   ]
  },
  {
   "cell_type": "code",
   "execution_count": 98,
   "metadata": {},
   "outputs": [
    {
     "data": {
      "text/plain": [
       "-3.4\n"
      ]
     },
     "metadata": {},
     "output_type": "display_data"
    }
   ],
   "source": [
    "# Retorna valor mínimo da lista\n",
    "min(lista_numeros)"
   ]
  },
  {
   "cell_type": "code",
   "execution_count": 99,
   "metadata": {},
   "outputs": [
    {
     "data": {
      "text/plain": [
       "[10, 20, 50, -3.4, 14]"
      ]
     },
     "execution_count": 99,
     "metadata": {},
     "output_type": "execute_result"
    }
   ],
   "source": [
    "# Adiciona um item ao final da lista:\n",
    "lista_numeros.append(14)\n",
    "lista_numeros"
   ]
  },
  {
   "cell_type": "code",
   "execution_count": 100,
   "metadata": {},
   "outputs": [
    {
     "data": {
      "text/plain": [
       "[10, 20, 50, -3.4, 14, 14]"
      ]
     },
     "execution_count": 100,
     "metadata": {},
     "output_type": "execute_result"
    }
   ],
   "source": [
    "# Se você repetir o append, ele acrescenta de novo:\n",
    "lista_numeros.append(14)\n",
    "lista_numeros\n"
   ]
  },
  {
   "cell_type": "code",
   "execution_count": 101,
   "metadata": {},
   "outputs": [
    {
     "data": {
      "text/plain": [
       "2\n"
      ]
     },
     "metadata": {},
     "output_type": "display_data"
    }
   ],
   "source": [
    "# Contar quantas vezes um elemento aparece na lista:\n",
    "lista_numeros.count(14)"
   ]
  },
  {
   "cell_type": "code",
   "execution_count": 102,
   "metadata": {},
   "outputs": [],
   "source": [
    "# É possível criar uma lista vazia:\n",
    "a = []"
   ]
  },
  {
   "cell_type": "code",
   "execution_count": 103,
   "metadata": {},
   "outputs": [
    {
     "data": {
      "text/plain": [
       "[]\n"
      ]
     },
     "metadata": {},
     "output_type": "display_data"
    }
   ],
   "source": [
    "print(a)"
   ]
  },
  {
   "cell_type": "code",
   "execution_count": 104,
   "metadata": {},
   "outputs": [
    {
     "data": {
      "text/plain": [
       "<class 'list'>\n"
      ]
     },
     "metadata": {},
     "output_type": "display_data"
    }
   ],
   "source": [
    "type(a)"
   ]
  },
  {
   "cell_type": "code",
   "execution_count": 105,
   "metadata": {},
   "outputs": [
    {
     "data": {
      "text/plain": [
       "[10]"
      ]
     },
     "execution_count": 105,
     "metadata": {},
     "output_type": "execute_result"
    }
   ],
   "source": [
    "a.append(10)\n",
    "a"
   ]
  },
  {
   "cell_type": "code",
   "execution_count": 106,
   "metadata": {},
   "outputs": [
    {
     "data": {
      "text/plain": [
       "[10, 50]"
      ]
     },
     "execution_count": 106,
     "metadata": {},
     "output_type": "execute_result"
    }
   ],
   "source": [
    "a.append(50)\n",
    "a"
   ]
  },
  {
   "cell_type": "code",
   "execution_count": 107,
   "metadata": {},
   "outputs": [
    {
     "data": {
      "text/plain": [
       "[10, 50]"
      ]
     },
     "execution_count": 107,
     "metadata": {},
     "output_type": "execute_result"
    }
   ],
   "source": [
    "# É possível passar os elementos de uma lista para a outra:\n",
    "\n",
    "new_list = []\n",
    "for item in a:\n",
    "    new_list.append(item)\n",
    "new_list"
   ]
  },
  {
   "cell_type": "code",
   "execution_count": 108,
   "metadata": {},
   "outputs": [
    {
     "data": {
      "text/plain": [
       "[10, 50, 21, 23]"
      ]
     },
     "execution_count": 108,
     "metadata": {},
     "output_type": "execute_result"
    }
   ],
   "source": [
    "# Também é possível acrescentar múltiplos elementos a uma lista já existente\n",
    "# Isso é diferente de append porque append só aceita um elemento\n",
    "\n",
    "a.extend([21,23])\n",
    "a"
   ]
  },
  {
   "cell_type": "code",
   "execution_count": 109,
   "metadata": {},
   "outputs": [
    {
     "data": {
      "text/plain": [
       "Traceback (most recent call last):\n",
       "  File \"c:\\Users\\Pedro\\.vscode\\extensions\\ms-python.python-2024.22.2-win32-x64\\python_files\\python_server.py\", line 133, in exec_user_input\n",
       "    retval = callable_(user_input, user_globals)\n",
       "             ^^^^^^^^^^^^^^^^^^^^^^^^^^^^^^^^^^^\n",
       "  File \"<string>\", line 3, in <module>\n",
       "TypeError: list.extend() takes exactly one argument (2 given)\n",
       "\n"
      ]
     },
     "metadata": {},
     "output_type": "display_data"
    }
   ],
   "source": [
    "# Note que, no bloco acima, os elementos foram acrescentados como lista, pois o extend só aceita um argumento iterável.\n",
    "# Se tentássemos como dois elementos separados, ele daria erro:\n",
    "a.extend(21,23)"
   ]
  },
  {
   "cell_type": "code",
   "execution_count": 110,
   "metadata": {},
   "outputs": [
    {
     "data": {
      "text/plain": [
       "1\n"
      ]
     },
     "metadata": {},
     "output_type": "display_data"
    }
   ],
   "source": [
    "# Também é possível verificar o índice de um determinado elemento:\n",
    "a.index(50)\n"
   ]
  },
  {
   "cell_type": "code",
   "execution_count": 111,
   "metadata": {},
   "outputs": [
    {
     "data": {
      "text/plain": [
       "Traceback (most recent call last):\n",
       "  File \"c:\\Users\\Pedro\\.vscode\\extensions\\ms-python.python-2024.22.2-win32-x64\\python_files\\python_server.py\", line 133, in exec_user_input\n",
       "    retval = callable_(user_input, user_globals)\n",
       "             ^^^^^^^^^^^^^^^^^^^^^^^^^^^^^^^^^^^\n",
       "  File \"<string>\", line 2, in <module>\n",
       "ValueError: 14 is not in list\n",
       "\n"
      ]
     },
     "metadata": {},
     "output_type": "display_data"
    }
   ],
   "source": [
    "# Se o elemento não existir na lista, teremos erro:\n",
    "a.index(14)"
   ]
  },
  {
   "cell_type": "code",
   "execution_count": 112,
   "metadata": {},
   "outputs": [
    {
     "data": {
      "text/plain": [
       "[10, 50, 14, 21, 23]"
      ]
     },
     "execution_count": 112,
     "metadata": {},
     "output_type": "execute_result"
    }
   ],
   "source": [
    "# Também é possível inserir um elemento numa posição específica, usando .insert:\n",
    "a.insert(2,14)\n",
    "a"
   ]
  },
  {
   "cell_type": "code",
   "execution_count": 113,
   "metadata": {},
   "outputs": [
    {
     "data": {
      "text/plain": [
       "[10, 50, 21, 23]"
      ]
     },
     "execution_count": 113,
     "metadata": {},
     "output_type": "execute_result"
    }
   ],
   "source": [
    "# Da mesma forma, é possível remover um elemento:\n",
    "a.remove(14)\n",
    "a"
   ]
  },
  {
   "cell_type": "code",
   "execution_count": 116,
   "metadata": {},
   "outputs": [
    {
     "data": {
      "text/plain": [
       "[23, 21, 50, 10]"
      ]
     },
     "execution_count": 116,
     "metadata": {},
     "output_type": "execute_result"
    }
   ],
   "source": [
    "# Inverter a ordem da lista:\n",
    "a.reverse()\n",
    "a"
   ]
  },
  {
   "cell_type": "code",
   "execution_count": 118,
   "metadata": {},
   "outputs": [
    {
     "data": {
      "text/plain": [
       "[10, 21, 23, 50]"
      ]
     },
     "execution_count": 118,
     "metadata": {},
     "output_type": "execute_result"
    }
   ],
   "source": [
    "# Ordernar a lista:\n",
    "a.sort()\n",
    "a"
   ]
  },
  {
   "cell_type": "markdown",
   "metadata": {},
   "source": [
    "## 5. Trabalhando com dicionários"
   ]
  },
  {
   "cell_type": "markdown",
   "metadata": {},
   "source": [
    "- Dicionários são pares de chave e valor\n",
    "- Na lista, os elementos são independentes um do outro; no dicionário, são dependentes em pares"
   ]
  },
  {
   "cell_type": "code",
   "execution_count": 120,
   "metadata": {},
   "outputs": [
    {
     "data": {
      "text/plain": [
       "dict"
      ]
     },
     "execution_count": 120,
     "metadata": {},
     "output_type": "execute_result"
    }
   ],
   "source": [
    "# Dicionários são identificados no Python por chaves {}\n",
    "estudantes_dict = {'Pedro':24,'Ana':22,'Ronaldo':26,'Janaína':25}\n",
    "type(estudantes_dict)"
   ]
  },
  {
   "cell_type": "code",
   "execution_count": 122,
   "metadata": {},
   "outputs": [
    {
     "data": {
      "text/plain": [
       "{'Pedro': 24, 'Ana': 22, 'Ronaldo': 26, 'Janaína': 25}\n"
      ]
     },
     "metadata": {},
     "output_type": "display_data"
    }
   ],
   "source": [
    "print(estudantes_dict)"
   ]
  },
  {
   "cell_type": "code",
   "execution_count": 123,
   "metadata": {},
   "outputs": [
    {
     "data": {
      "text/plain": [
       "24\n"
      ]
     },
     "metadata": {},
     "output_type": "display_data"
    }
   ],
   "source": [
    "# Retonar a idade (valor) de Pedro (chave):\n",
    "estudantes_dict['Pedro']"
   ]
  },
  {
   "cell_type": "code",
   "execution_count": null,
   "metadata": {},
   "outputs": [
    {
     "data": {
      "text/plain": [
       "METAPOD\n",
       "BUG\n"
      ]
     },
     "metadata": {},
     "output_type": "display_data"
    }
   ],
   "source": [
    "import random\n",
    "\n",
    "palavras = ['BULBASAUR','IVYSAUR','VENUSAUR','CHARMANDER','CHARMELEON','CHARIZARD','SQUIRTLE','WARTORTLE','BLASTOISE','CATERPIE','METAPOD','BUTTERFREE','WEEDLE','KAKUNA','BEEDRILL','PIDGEY','PIDGEOTTO','PIDGEOT','RATTATA','RATICATE','SPEAROW','FEAROW','EKANS','ARBOK','PIKACHU','RAICHU','SANDSHREW','SANDSLASH','NIDORAN♀','NIDORINA','NIDOQUEEN','NIDORAN♂','NIDORINO','NIDOKING','CLEFAIRY','CLEFABLE','VULPIX','NINETALES','JIGGLYPUFF','WIGGLYTUFF','ZUBAT','GOLBAT','ODDISH','GLOOM','VILEPLUME','PARAS','PARASECT','VENONAT','VENOMOTH','DIGLETT','DUGTRIO','MEOWTH','PERSIAN','PSYDUCK','GOLDUCK','MANKEY','PRIMEAPE','GROWLITHE','ARCANINE','POLIWAG','POLIWHIRL','POLIWRATH','ABRA','KADABRA','ALAKAZAM','MACHOP','MACHOKE','MACHAMP','BELLSPROUT','WEEPINBELL','VICTREEBEL','TENTACOOL','TENTACRUEL','GEODUDE','GRAVELER','GOLEM','PONYTA','RAPIDASH','SLOWPOKE','SLOWBRO','MAGNEMITE','MAGNETON','FARFETCHD','DODUO','DODRIO','SEEL','DEWGONG','GRIMER','MUK','SHELLDER','CLOYSTER','GASTLY','HAUNTER','GENGAR','ONIX','DROWZEE','HYPNO','KRABBY','KINGLER','VOLTORB','ELECTRODE','EXEGGCUTE','EXEGGUTOR','CUBONE','MAROWAK','HITMONLEE','HITMONCHAN','LICKITUNG','KOFFING','WEEZING','RHYHORN','RHYDON','CHANSEY','TANGELA','KANGASKHAN','HORSEA','SEADRA','GOLDEEN','SEAKING','STARYU','STARMIE','MR. MIME','SCYTHER','JYNX','ELECTABUZZ','MAGMAR','PINSIR','TAUROS','MAGIKARP','GYARADOS','LAPRAS','DITTO','EEVEE','VAPOREON','JOLTEON','FLAREON','PORYGON','OMANYTE','OMASTAR','KABUTO','KABUTOPS','AERODACTYL','SNORLAX','ARTICUNO','ZAPDOS','MOLTRES','DRATINI','DRAGONAIR','DRAGONITE','MEWTWO','MEW']\n",
    "tipos = {'BULBASAUR':'GRASS/POISON','IVYSAUR':'GRASS/POISON','VENUSAUR':'GRASS/POISON','CHARMANDER':'FIRE','CHARMELEON':'FIRE','CHARIZARD':'FIRE/FLYING','SQUIRTLE':'WATER','WARTORTLE':'WATER','BLASTOISE':'WATER','CATERPIE':'BUG','METAPOD':'BUG','BUTTERFREE':'BUG/FLYING','WEEDLE':'BUG/POISON','KAKUNA':'BUG/POISON','BEEDRILL':'BUG/POISON','PIDGEY':'NORMAL/FLYING','PIDGEOTTO':'NORMAL/FLYING','PIDGEOT':'NORMAL/FLYING','RATTATA':'NORMAL','RATICATE':'NORMAL','SPEAROW':'NORMAL/FLYING','FEAROW':'NORMAL/FLYING','EKANS':'POISON','ARBOK':'POISON','PIKACHU':'ELECTRIC','RAICHU':'ELECTRIC','SANDSHREW':'GROUND','SANDSLASH':'GROUND','NIDORAN♀':'POISON','NIDORINA':'POISON','NIDOQUEEN':'POISON/GROUND','NIDORAN♂':'POISON','NIDORINO':'POISON','NIDOKING':'POISON/GROUND','CLEFAIRY':'NORMAL','CLEFABLE':'NORMAL','VULPIX':'FIRE','NINETALES':'FIRE','JIGGLYPUFF':'NORMAL','WIGGLYTUFF':'NORMAL','ZUBAT':'POISON/FLYING','GOLBAT':'POISON/FLYING','ODDISH':'GRASS/POISON','GLOOM':'GRASS/POISON','VILEPLUME':'GRASS/POISON','PARAS':'BUG/GRASS','PARASECT':'BUG/GRASS','VENONAT':'BUG/POISON','VENOMOTH':'BUG/POISON','DIGLETT':'GROUND','DUGTRIO':'GROUND','MEOWTH':'NORMAL','PERSIAN':'NORMAL','PSYDUCK':'WATER','GOLDUCK':'WATER','MANKEY':'FIGHTING','PRIMEAPE':'FIGHTING','GROWLITHE':'FIRE','ARCANINE':'FIRE','POLIWAG':'WATER','POLIWHIRL':'WATER','POLIWRATH':'WATER/FIGHTING','ABRA':'PSYCHIC','KADABRA':'PSYCHIC','ALAKAZAM':'PSYCHIC','MACHOP':'FIGHTING','MACHOKE':'FIGHTING','MACHAMP':'FIGHTING','BELLSPROUT':'GRASS/POISON','WEEPINBELL':'GRASS/POISON','VICTREEBEL':'GRASS/POISON','TENTACOOL':'WATER/POISON','TENTACRUEL':'WATER/POISON','GEODUDE':'ROCK/GROUND','GRAVELER':'ROCK/GROUND','GOLEM':'ROCK/GROUND','PONYTA':'FIRE','RAPIDASH':'FIRE','SLOWPOKE':'WATER/PSYCHIC','SLOWBRO':'WATER/PSYCHIC','MAGNEMITE':'ELECTRIC','MAGNETON':'ELECTRIC','FARFETCHD':'NORMAL/FLYING','DODUO':'NORMAL/FLYING','DODRIO':'NORMAL/FLYING','SEEL':'WATER','DEWGONG':'WATER/ICE','GRIMER':'POISON','MUK':'POISON','SHELLDER':'WATER','CLOYSTER':'WATER/ICE','GASTLY':'GHOST/POISON','HAUNTER':'GHOST/POISON','GENGAR':'GHOST/POISON','ONIX':'ROCK/GROUND','DROWZEE':'PSYCHIC','HYPNO':'PSYCHIC','KRABBY':'WATER','KINGLER':'WATER','VOLTORB':'ELECTRIC','ELECTRODE':'ELECTRIC','EXEGGCUTE':'GRASS/PSYCHIC','EXEGGUTOR':'GRASS/PSYCHIC','CUBONE':'GROUND','MAROWAK':'GROUND','HITMONLEE':'FIGHTING','HITMONCHAN':'FIGHTING','LICKITUNG':'NORMAL','KOFFING':'POISON','WEEZING':'POISON','RHYHORN':'GROUND/ROCK','RHYDON':'GROUND/ROCK','CHANSEY':'NORMAL','TANGELA':'GRASS','KANGASKHAN':'NORMAL','HORSEA':'WATER','SEADRA':'WATER','GOLDEEN':'WATER','SEAKING':'WATER','STARYU':'WATER','STARMIE':'WATER/PSYCHIC','MR. MIME':'PSYCHIC','SCYTHER':'BUG/FLYING','JYNX':'ICE/PSYCHIC','ELECTABUZZ':'ELECTRIC','MAGMAR':'FIRE','PINSIR':'BUG','TAUROS':'NORMAL','MAGIKARP':'WATER','GYARADOS':'WATER/FLYING','LAPRAS':'WATER/ICE','DITTO':'NORMAL','EEVEE':'NORMAL','VAPOREON':'WATER','JOLTEON':'ELECTRIC','FLAREON':'FIRE','PORYGON':'NORMAL','OMANYTE':'ROCK/WATER','OMASTAR':'ROCK/WATER','KABUTO':'ROCK/WATER','KABUTOPS':'ROCK/WATER','AERODACTYL':'ROCK/FLYING','SNORLAX':'NORMAL','ARTICUNO':'ICE/FLYING','ZAPDOS':'ELECTRIC/FLYING','MOLTRES':'FIRE/FLYING','DRATINI':'DRAGON','DRAGONAIR':'DRAGON','DRAGONITE':'DRAGON/FLYING','MEWTWO':'PSYCHIC','MEW':'PSYCHIC'}\n",
    "palavra = random.choice(palavras)\n",
    "print(palavra)\n",
    "print(tipos[palavra])"
   ]
  },
  {
   "cell_type": "code",
   "execution_count": 124,
   "metadata": {},
   "outputs": [
    {
     "data": {
      "text/plain": [
       "{'Pedro': 24, 'Ana': 22, 'Ronaldo': 26, 'Janaína': 25, 'Marcelo': 23}"
      ]
     },
     "execution_count": 124,
     "metadata": {},
     "output_type": "execute_result"
    }
   ],
   "source": [
    "# Adicionar um elemento ao dicionário:\n",
    "estudantes_dict['Marcelo'] = 23\n",
    "estudantes_dict"
   ]
  },
  {
   "cell_type": "code",
   "execution_count": 125,
   "metadata": {},
   "outputs": [
    {
     "data": {
      "text/plain": [
       "23\n"
      ]
     },
     "metadata": {},
     "output_type": "display_data"
    }
   ],
   "source": [
    "estudantes_dict['Marcelo']"
   ]
  },
  {
   "cell_type": "code",
   "execution_count": 126,
   "metadata": {},
   "outputs": [
    {
     "data": {
      "text/plain": [
       "{}"
      ]
     },
     "execution_count": 126,
     "metadata": {},
     "output_type": "execute_result"
    }
   ],
   "source": [
    "# Limpar o dicionário\n",
    "estudantes_dict.clear()\n",
    "estudantes_dict"
   ]
  },
  {
   "cell_type": "code",
   "execution_count": 127,
   "metadata": {},
   "outputs": [],
   "source": [
    "# Deletar a variável\n",
    "\n",
    "del estudantes_dict"
   ]
  },
  {
   "cell_type": "code",
   "execution_count": 128,
   "metadata": {},
   "outputs": [
    {
     "data": {
      "text/plain": [
       "Traceback (most recent call last):\n",
       "  File \"c:\\Users\\Pedro\\.vscode\\extensions\\ms-python.python-2024.22.2-win32-x64\\python_files\\python_server.py\", line 133, in exec_user_input\n",
       "    retval = callable_(user_input, user_globals)\n",
       "             ^^^^^^^^^^^^^^^^^^^^^^^^^^^^^^^^^^^\n",
       "  File \"<string>\", line 1, in <module>\n",
       "NameError: name 'estudantes_dict' is not defined\n",
       "\n"
      ]
     },
     "metadata": {},
     "output_type": "display_data"
    }
   ],
   "source": [
    "estudantes_dict"
   ]
  },
  {
   "cell_type": "code",
   "execution_count": 129,
   "metadata": {},
   "outputs": [
    {
     "data": {
      "text/plain": [
       "4"
      ]
     },
     "execution_count": 129,
     "metadata": {},
     "output_type": "execute_result"
    }
   ],
   "source": [
    "# Cada par é um elemento do dicionário\n",
    "\n",
    "estudantes = {'Pedro':24,'Ana':22,'Ronaldo':26,'Janaína':25}\n",
    "len(estudantes)"
   ]
  },
  {
   "cell_type": "code",
   "execution_count": 130,
   "metadata": {},
   "outputs": [
    {
     "data": {
      "text/plain": [
       "dict_keys(['Pedro', 'Ana', 'Ronaldo', 'Janaína'])\n"
      ]
     },
     "metadata": {},
     "output_type": "display_data"
    }
   ],
   "source": [
    "# Retornar apenas as chaves\n",
    "estudantes.keys()"
   ]
  },
  {
   "cell_type": "code",
   "execution_count": 131,
   "metadata": {},
   "outputs": [
    {
     "data": {
      "text/plain": [
       "dict_values([24, 22, 26, 25])\n"
      ]
     },
     "metadata": {},
     "output_type": "display_data"
    }
   ],
   "source": [
    "# Retornar apenas valores\n",
    "estudantes.values()"
   ]
  },
  {
   "cell_type": "code",
   "execution_count": 132,
   "metadata": {},
   "outputs": [
    {
     "data": {
      "text/plain": [
       "dict_items([('Pedro', 24), ('Ana', 22), ('Ronaldo', 26), ('Janaína', 25)])\n"
      ]
     },
     "metadata": {},
     "output_type": "display_data"
    }
   ],
   "source": [
    "# Retornar itens\n",
    "estudantes.items()"
   ]
  },
  {
   "cell_type": "code",
   "execution_count": 133,
   "metadata": {},
   "outputs": [
    {
     "data": {
      "text/plain": [
       "{'Camila': 27, 'Adriana': 28, 'Roberta': 26}\n"
      ]
     },
     "metadata": {},
     "output_type": "display_data"
    }
   ],
   "source": [
    "# Atualizar um dicionário com um novo dicionário\n",
    "\n",
    "estudantes2 = {'Camila':27,'Adriana':28,'Roberta':26}\n",
    "print(estudantes2)\n",
    "\n",
    "estudantes.update(estudantes2)\n",
    "estudantes"
   ]
  },
  {
   "cell_type": "code",
   "execution_count": 134,
   "metadata": {},
   "outputs": [
    {
     "data": {
      "text/plain": [
       "{}\n",
       "{'chave_um': 2}\n"
      ]
     },
     "metadata": {},
     "output_type": "display_data"
    }
   ],
   "source": [
    "# Criar um dicionário vazio e acrescentar itens:\n",
    "\n",
    "dic1 = {}\n",
    "print(dic1)\n",
    "\n",
    "dic1['chave_um'] = 2\n",
    "print(dic1)"
   ]
  },
  {
   "cell_type": "code",
   "execution_count": 137,
   "metadata": {},
   "outputs": [
    {
     "data": {
      "text/plain": [
       "{'chave1': 1230,\n",
       " 'chave2': [22, 453, 73.4],\n",
       " 'chave3': ['brócolis', 'pimentão', 'tomate']}"
      ]
     },
     "execution_count": 137,
     "metadata": {},
     "output_type": "execute_result"
    }
   ],
   "source": [
    "# É possível colocar uma lista dentro de um dicionário\n",
    "dic2 = {'chave1':1230,'chave2':[22,453,73.4],'chave3':['brócolis','pimentão','tomate']}\n",
    "dic2"
   ]
  },
  {
   "cell_type": "code",
   "execution_count": 138,
   "metadata": {},
   "outputs": [
    {
     "data": {
      "text/plain": [
       "BRÓCOLIS\n"
      ]
     },
     "metadata": {},
     "output_type": "display_data"
    }
   ],
   "source": [
    "# É possível acessar um item de uma lista que está dentro de um dicionário\n",
    "dic2['chave3'][0].upper()"
   ]
  },
  {
   "cell_type": "code",
   "execution_count": 139,
   "metadata": {},
   "outputs": [
    {
     "data": {
      "text/plain": [
       "20"
      ]
     },
     "execution_count": 139,
     "metadata": {},
     "output_type": "execute_result"
    }
   ],
   "source": [
    "# Também é possível fazer operações com itens da lista dentro do dicionário\n",
    "var1 = dic2['chave2'][0] -2\n",
    "var1"
   ]
  },
  {
   "cell_type": "code",
   "execution_count": 141,
   "metadata": {},
   "outputs": [
    {
     "data": {
      "text/plain": [
       "{'chave1': 1230,\n",
       " 'chave2': [20, 453, 73.4],\n",
       " 'chave3': ['brócolis', 'pimentão', 'tomate']}"
      ]
     },
     "execution_count": 141,
     "metadata": {},
     "output_type": "execute_result"
    }
   ],
   "source": [
    "# Fazer duas operações no mesmo comando para atualizar um item da lista\n",
    "dic2['chave2'][0] -= 2\n",
    "dic2"
   ]
  },
  {
   "cell_type": "markdown",
   "metadata": {},
   "source": [
    "### Criando dicionários aninhados"
   ]
  },
  {
   "cell_type": "code",
   "execution_count": 146,
   "metadata": {},
   "outputs": [
    {
     "data": {
      "text/plain": [
       "{'key1': {'key2_aninhada': {'key3_aninhada': 'Dict aninhado em Python'}}}"
      ]
     },
     "execution_count": 146,
     "metadata": {},
     "output_type": "execute_result"
    }
   ],
   "source": [
    "# Nesse exemplo, temos um dicionário dentro de um dicionário dentro de um dicionário\n",
    "\n",
    "dict_aninhado = {'key1':{'key2_aninhada':{'key3_aninhada':'Dict aninhado em Python'}}}\n",
    "dict_aninhado"
   ]
  },
  {
   "cell_type": "code",
   "execution_count": 147,
   "metadata": {},
   "outputs": [
    {
     "data": {
      "text/plain": [
       "Dict aninhado em Python\n"
      ]
     },
     "metadata": {},
     "output_type": "display_data"
    }
   ],
   "source": [
    "# Para buscar o valor, é preciso usar as 3 chaves\n",
    "\n",
    "dict_aninhado['key1']['key2_aninhada']['key3_aninhada']"
   ]
  },
  {
   "cell_type": "markdown",
   "metadata": {},
   "source": [
    "## 6. Trabalhando com Tuplas"
   ]
  },
  {
   "cell_type": "markdown",
   "metadata": {},
   "source": [
    "- Estrutura mais limitada entre as três últimas\n",
    "- Usada geralmente como saída ou quando se quer evitar modificações (por exemplo, para definir parâmetros)\n",
    "- É indicada por parênteses"
   ]
  },
  {
   "cell_type": "code",
   "execution_count": 148,
   "metadata": {},
   "outputs": [
    {
     "data": {
      "text/plain": [
       "('Geografia', 22, 'Elefantes', 9.8, 'Python')"
      ]
     },
     "execution_count": 148,
     "metadata": {},
     "output_type": "execute_result"
    }
   ],
   "source": [
    "# Aceita elementos de tipos diferentes\n",
    "tupla1 = ('Geografia',22,'Elefantes',9.8,'Python')\n",
    "tupla1"
   ]
  },
  {
   "cell_type": "code",
   "execution_count": 150,
   "metadata": {},
   "outputs": [
    {
     "data": {
      "text/plain": [
       "Traceback (most recent call last):\n",
       "  File \"c:\\Users\\Pedro\\.vscode\\extensions\\ms-python.python-2024.22.2-win32-x64\\python_files\\python_server.py\", line 133, in exec_user_input\n",
       "    retval = callable_(user_input, user_globals)\n",
       "             ^^^^^^^^^^^^^^^^^^^^^^^^^^^^^^^^^^^\n",
       "  File \"<string>\", line 2, in <module>\n",
       "AttributeError: 'tuple' object has no attribute 'append'\n",
       "\n"
      ]
     },
     "metadata": {},
     "output_type": "display_data"
    }
   ],
   "source": [
    "# Não suporta append()\n",
    "tupla1.append('Chocolate')"
   ]
  },
  {
   "cell_type": "code",
   "execution_count": 151,
   "metadata": {},
   "outputs": [
    {
     "data": {
      "text/plain": [
       "Traceback (most recent call last):\n",
       "  File \"c:\\Users\\Pedro\\.vscode\\extensions\\ms-python.python-2024.22.2-win32-x64\\python_files\\python_server.py\", line 133, in exec_user_input\n",
       "    retval = callable_(user_input, user_globals)\n",
       "             ^^^^^^^^^^^^^^^^^^^^^^^^^^^^^^^^^^^\n",
       "  File \"<string>\", line 2, in <module>\n",
       "TypeError: 'tuple' object does not support item deletion\n",
       "\n"
      ]
     },
     "metadata": {},
     "output_type": "display_data"
    }
   ],
   "source": [
    "# Não suporta delete de um item específico\n",
    "del tupla1['Elefantes']"
   ]
  },
  {
   "cell_type": "code",
   "execution_count": 152,
   "metadata": {},
   "outputs": [
    {
     "data": {
      "text/plain": [
       "'Chocolate'"
      ]
     },
     "execution_count": 152,
     "metadata": {},
     "output_type": "execute_result"
    }
   ],
   "source": [
    "# Pode ter um único item\n",
    "tupla1 = ('Chocolate')\n",
    "tupla1"
   ]
  },
  {
   "cell_type": "code",
   "execution_count": 153,
   "metadata": {},
   "outputs": [
    {
     "data": {
      "text/plain": [
       "'Geografia'"
      ]
     },
     "execution_count": 153,
     "metadata": {},
     "output_type": "execute_result"
    }
   ],
   "source": [
    "# É possível fazer indexação igual fazemos em listas e dicionários\n",
    "tupla1 = ('Geografia',22,'Elefantes',9.8,'Python')\n",
    "tupla1[0]"
   ]
  },
  {
   "cell_type": "code",
   "execution_count": 154,
   "metadata": {},
   "outputs": [
    {
     "data": {
      "text/plain": [
       "(22, 'Elefantes', 9.8, 'Python')\n"
      ]
     },
     "metadata": {},
     "output_type": "display_data"
    }
   ],
   "source": [
    "# Slicing\n",
    "tupla1[1:]"
   ]
  },
  {
   "cell_type": "code",
   "execution_count": 156,
   "metadata": {},
   "outputs": [
    {
     "data": {
      "text/plain": [
       "2\n"
      ]
     },
     "metadata": {},
     "output_type": "display_data"
    }
   ],
   "source": [
    "# Verificar índice de um determinado elemento\n",
    "tupla1.index('Elefantes')"
   ]
  },
  {
   "cell_type": "code",
   "execution_count": 157,
   "metadata": {},
   "outputs": [
    {
     "data": {
      "text/plain": [
       "Traceback (most recent call last):\n",
       "  File \"c:\\Users\\Pedro\\.vscode\\extensions\\ms-python.python-2024.22.2-win32-x64\\python_files\\python_server.py\", line 133, in exec_user_input\n",
       "    retval = callable_(user_input, user_globals)\n",
       "             ^^^^^^^^^^^^^^^^^^^^^^^^^^^^^^^^^^^\n",
       "  File \"<string>\", line 2, in <module>\n",
       "TypeError: 'tuple' object does not support item assignment\n",
       "\n"
      ]
     },
     "metadata": {},
     "output_type": "display_data"
    }
   ],
   "source": [
    "# Não suporta atribuição de item, porque não pode ser modificada\n",
    "tupla1[1] = 21"
   ]
  },
  {
   "cell_type": "code",
   "execution_count": 159,
   "metadata": {},
   "outputs": [
    {
     "data": {
      "text/plain": [
       "Traceback (most recent call last):\n",
       "  File \"c:\\Users\\Pedro\\.vscode\\extensions\\ms-python.python-2024.22.2-win32-x64\\python_files\\python_server.py\", line 133, in exec_user_input\n",
       "    retval = callable_(user_input, user_globals)\n",
       "             ^^^^^^^^^^^^^^^^^^^^^^^^^^^^^^^^^^^\n",
       "  File \"<string>\", line 4, in <module>\n",
       "NameError: name 'tupla1' is not defined\n",
       "\n"
      ]
     },
     "metadata": {},
     "output_type": "display_data"
    }
   ],
   "source": [
    "# Pode ser deletada\n",
    "\n",
    "del tupla1\n",
    "tupla1"
   ]
  },
  {
   "cell_type": "code",
   "execution_count": 167,
   "metadata": {},
   "outputs": [],
   "source": [
    "# Se eu quiser acrescentar um elemento a uma tupla, por exemplo, posso convertê-la em lista\n",
    "t2 = ('A','B','C')\n",
    "lista_t2 = list(t2)\n"
   ]
  },
  {
   "cell_type": "code",
   "execution_count": 168,
   "metadata": {},
   "outputs": [
    {
     "data": {
      "text/plain": [
       "<class 'tuple'>\n"
      ]
     },
     "metadata": {},
     "output_type": "display_data"
    }
   ],
   "source": [
    "type(t2)"
   ]
  },
  {
   "cell_type": "code",
   "execution_count": 169,
   "metadata": {},
   "outputs": [
    {
     "data": {
      "text/plain": [
       "<class 'list'>\n"
      ]
     },
     "metadata": {},
     "output_type": "display_data"
    }
   ],
   "source": [
    "type(lista_t2)"
   ]
  },
  {
   "cell_type": "code",
   "execution_count": 170,
   "metadata": {},
   "outputs": [
    {
     "data": {
      "text/plain": [
       "['A', 'B', 'C', 'D']"
      ]
     },
     "execution_count": 170,
     "metadata": {},
     "output_type": "execute_result"
    }
   ],
   "source": [
    "# Acrescento o elemento à lista:\n",
    "lista_t2.append('D')\n",
    "lista_t2"
   ]
  },
  {
   "cell_type": "code",
   "execution_count": 171,
   "metadata": {},
   "outputs": [
    {
     "data": {
      "text/plain": [
       "('A', 'B', 'C', 'D')"
      ]
     },
     "execution_count": 171,
     "metadata": {},
     "output_type": "execute_result"
    }
   ],
   "source": [
    "# Converto a lista de volta em tupla e sobrescrevo a variável da tupla original:\n",
    "t2 = tuple(lista_t2)\n",
    "t2"
   ]
  }
 ],
 "metadata": {
  "kernelspec": {
   "display_name": "Python 3",
   "language": "python",
   "name": "python3"
  },
  "language_info": {
   "codemirror_mode": {
    "name": "ipython",
    "version": 3
   },
   "file_extension": ".py",
   "mimetype": "text/x-python",
   "name": "python",
   "nbconvert_exporter": "python",
   "pygments_lexer": "ipython3",
   "version": "3.11.9"
  }
 },
 "nbformat": 4,
 "nbformat_minor": 2
}
