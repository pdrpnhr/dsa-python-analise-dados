{
 "cells": [
  {
   "cell_type": "code",
   "execution_count": 128,
   "metadata": {},
   "outputs": [
    {
     "name": "stdout",
     "output_type": "stream",
     "text": [
      "***** Calculadora em Python *****\n"
     ]
    }
   ],
   "source": [
    "# Desafio: construir uma calculadora simples em Python como a apresentada pelo professor do curso.\n",
    "\n",
    "print('***** Calculadora em Python *****')\n",
    "operacao = input('Selecione o número da operação desejada: \\n\\n1 - Soma\\n2 - Subtração\\n3 - Multiplicação\\n4 - Divisão\\n\\nDigite sua opção (1/2/3/4):')"
   ]
  },
  {
   "cell_type": "code",
   "execution_count": 129,
   "metadata": {},
   "outputs": [],
   "source": [
    "# Transformando o input em float para que seja possível realizar operações\n",
    "\n",
    "num1 = float(input('\\nDigite o primeiro número: '))"
   ]
  },
  {
   "cell_type": "code",
   "execution_count": 130,
   "metadata": {},
   "outputs": [],
   "source": [
    "num2 = float(input('\\nDigite o segundo número: '))"
   ]
  },
  {
   "cell_type": "code",
   "execution_count": 131,
   "metadata": {},
   "outputs": [
    {
     "name": "stdout",
     "output_type": "stream",
     "text": [
      "\n",
      " 10.0 / 2.0 = 5.0\n"
     ]
    }
   ],
   "source": [
    "if operacao == '1':\n",
    "    resultado = num1 + num2\n",
    "    print('\\n',num1,'+',num2,'=',resultado)\n",
    "elif operacao == '2':\n",
    "    resultado = num1 - num2\n",
    "    print('\\n',num1,'-',num2,'=',resultado)\n",
    "elif operacao == '3':\n",
    "    resultado = num1 * num2\n",
    "    print('\\n',num1,'*',num2,'=',resultado)\n",
    "elif operacao == '4':\n",
    "    if num2 == 0:\n",
    "        # Evitando erro caso o usuário tente dividir por zero:\n",
    "        print(\"É impossível realizar divisão por 0. Por favor, tente de novo e escolha valores válidos.\")\n",
    "    else:\n",
    "        resultado = num1 / num2\n",
    "        print('\\n',num1,'/',num2,'=',resultado)\n",
    "else:\n",
    "    # Evitando erro caso o usuário escolha uma operação que não existe:\n",
    "    print('Operação %s não identificada. Por favor, comece de novo e selecione uma operação válida.' %(operacao))"
   ]
  },
  {
   "cell_type": "code",
   "execution_count": 132,
   "metadata": {},
   "outputs": [],
   "source": [
    "# Aprimoramentos possíveis para o futuro:\n",
    "# - Alterar a ordem dos inputs para ficar mais próximo da experiência padrão de usar uma calculadora (1º valor > operação > 2º valor) (UX)\n",
    "# - Printar mensagem de erro e interromper a execução assim que o usuário escolha uma operação que não existe (UX)\n",
    "# - Evitar erro caso o usuário inclua letras em vez de números\n"
   ]
  }
 ],
 "metadata": {
  "kernelspec": {
   "display_name": "Python 3",
   "language": "python",
   "name": "python3"
  },
  "language_info": {
   "codemirror_mode": {
    "name": "ipython",
    "version": 3
   },
   "file_extension": ".py",
   "mimetype": "text/x-python",
   "name": "python",
   "nbconvert_exporter": "python",
   "pygments_lexer": "ipython3",
   "version": "3.11.9"
  }
 },
 "nbformat": 4,
 "nbformat_minor": 2
}
