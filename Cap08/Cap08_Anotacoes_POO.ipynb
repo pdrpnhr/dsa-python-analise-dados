{
 "cells": [
  {
   "cell_type": "markdown",
   "metadata": {},
   "source": [
    "# Capítulo 8 - Introdução à Programação Orientada a Objetos"
   ]
  },
  {
   "cell_type": "markdown",
   "metadata": {},
   "source": [
    "## 1. Visão geral sobre classes"
   ]
  },
  {
   "cell_type": "markdown",
   "metadata": {},
   "source": [
    "- Uma classe é uma estrutura que descreve um objeto, definindo atributos e comportamentos que o objeto deve ter\n",
    "- Um atributo de uma classe é uma variável\n",
    "- Espécie de modelo de objeto (como se fosse um template)\n",
    "- São usadas para criar objetos, que são instâncias da classe\n",
    "- São criadas usando a palavra reservada `class`\n",
    "- O nome das classes segue as mesmas convenções de criação de funções e variáveis - geralmente, usando primeira letra maiúscula"
   ]
  },
  {
   "cell_type": "code",
   "execution_count": 23,
   "metadata": {},
   "outputs": [],
   "source": [
    "# Criando uma classe chamada Livro\n",
    "\n",
    "class Livro():\n",
    "    # Quando se cria uma função dentro de uma classe, ela se torna um método\n",
    "    \n",
    "    # Método construtor, que inicializa atributos da classe\n",
    "    # (self) é uma referência a cada atributo da própria classe (e não de uma classe mãe, por exemplo)\n",
    "    def __init__(self):\n",
    "\n",
    "        # Atributos são as propriedades:\n",
    "        self.titulo = 'O Rei do Inverno'\n",
    "        self.isbn = 9788501061140\n",
    "        print('Print criado para ficar claro quando o método construtor for executado')\n",
    "\n",
    "    # Método `imprime` tem acesso aos valores da classe\n",
    "    # %s - string, %d - número decimal\n",
    "    def imprime(self):\n",
    "        print('Foi criado o livro %s com ISBN %d' %(self.titulo, self.isbn))"
   ]
  },
  {
   "cell_type": "code",
   "execution_count": 24,
   "metadata": {},
   "outputs": [
    {
     "name": "stdout",
     "output_type": "stream",
     "text": [
      "Print criado para ficar claro quando o método construtor for executado\n"
     ]
    }
   ],
   "source": [
    "# Criando uma instância da classe Livro\n",
    "\n",
    "Livro1 = Livro()"
   ]
  },
  {
   "cell_type": "code",
   "execution_count": 25,
   "metadata": {},
   "outputs": [
    {
     "data": {
      "text/plain": [
       "__main__.Livro"
      ]
     },
     "execution_count": 25,
     "metadata": {},
     "output_type": "execute_result"
    }
   ],
   "source": [
    "# O objeto Livro1 é do tipo Livro\n",
    "type(Livro1)"
   ]
  },
  {
   "cell_type": "code",
   "execution_count": 26,
   "metadata": {},
   "outputs": [
    {
     "data": {
      "text/plain": [
       "'O Rei do Inverno'"
      ]
     },
     "execution_count": 26,
     "metadata": {},
     "output_type": "execute_result"
    }
   ],
   "source": [
    "# Chamando o atributo da classe\n",
    "# Toda instância da classe Livro vai herdar os atributos e os métodos\n",
    "Livro1.titulo"
   ]
  },
  {
   "cell_type": "code",
   "execution_count": 27,
   "metadata": {},
   "outputs": [
    {
     "name": "stdout",
     "output_type": "stream",
     "text": [
      "Foi criado o livro O Rei do Inverno com ISBN 9788501061140\n"
     ]
    }
   ],
   "source": [
    "# Método do objeto Livro1\n",
    "Livro1.imprime()"
   ]
  },
  {
   "cell_type": "code",
   "execution_count": 28,
   "metadata": {},
   "outputs": [],
   "source": [
    "# Criando a classe com parâmetros no método construtor:\n",
    "\n",
    "class Livro():\n",
    "\n",
    "    def __init__(self, titulo, isbn):\n",
    "        self.titulo = titulo\n",
    "        self.isbn = isbn\n",
    "        print('Construtor chamado para criar objeto dessa classe')\n",
    "\n",
    "    # Colocar no parêntesis os parâmetros que serão usados no método:\n",
    "    def imprime(self, titulo, isbn):\n",
    "        print('Este é o livro %s, de ISNB %d' %(titulo,isbn))\n"
   ]
  },
  {
   "cell_type": "code",
   "execution_count": 29,
   "metadata": {},
   "outputs": [
    {
     "name": "stdout",
     "output_type": "stream",
     "text": [
      "Construtor chamado para criar objeto dessa classe\n"
     ]
    }
   ],
   "source": [
    "# Criando o objeto livro2, que é uma instância da classe Livro\n",
    "livro2 = Livro('O Inimigo de Deus',9788501061188)"
   ]
  },
  {
   "cell_type": "code",
   "execution_count": 30,
   "metadata": {},
   "outputs": [
    {
     "data": {
      "text/plain": [
       "'O Inimigo de Deus'"
      ]
     },
     "execution_count": 30,
     "metadata": {},
     "output_type": "execute_result"
    }
   ],
   "source": [
    "livro2.titulo"
   ]
  },
  {
   "cell_type": "code",
   "execution_count": 31,
   "metadata": {},
   "outputs": [
    {
     "name": "stdout",
     "output_type": "stream",
     "text": [
      "Este é o livro O Inimigo de Deus, de ISNB 9788501061188\n"
     ]
    }
   ],
   "source": [
    "# Método do objeto livro2. Note que é preciso novamente passar os parâmetros\n",
    "\n",
    "livro2.imprime('O Inimigo de Deus',9788501061188)"
   ]
  },
  {
   "cell_type": "code",
   "execution_count": 32,
   "metadata": {},
   "outputs": [],
   "source": [
    "# Criando a classe cachorro:\n",
    "\n",
    "class Algoritmo():\n",
    "\n",
    "    def __init__(self,tipo_algo):\n",
    "        self.tipo = tipo_algo\n",
    "        print('Construtor chamado para criar objeto dessa classe')"
   ]
  },
  {
   "cell_type": "code",
   "execution_count": 33,
   "metadata": {},
   "outputs": [
    {
     "name": "stdout",
     "output_type": "stream",
     "text": [
      "Construtor chamado para criar objeto dessa classe\n"
     ]
    }
   ],
   "source": [
    "# Criando objeto a partir da classe:\n",
    "\n",
    "algo1 = Algoritmo(tipo_algo = 'Random Forest')"
   ]
  },
  {
   "cell_type": "code",
   "execution_count": 34,
   "metadata": {},
   "outputs": [
    {
     "name": "stdout",
     "output_type": "stream",
     "text": [
      "Construtor chamado para criar objeto dessa classe\n"
     ]
    }
   ],
   "source": [
    "algo2 = Algoritmo(tipo_algo = 'Deep Learning')"
   ]
  },
  {
   "cell_type": "code",
   "execution_count": 35,
   "metadata": {},
   "outputs": [
    {
     "data": {
      "text/plain": [
       "'Random Forest'"
      ]
     },
     "execution_count": 35,
     "metadata": {},
     "output_type": "execute_result"
    }
   ],
   "source": [
    "# Atributo da classe\n",
    "algo1.tipo"
   ]
  },
  {
   "cell_type": "code",
   "execution_count": 36,
   "metadata": {},
   "outputs": [
    {
     "data": {
      "text/plain": [
       "'Deep Learning'"
      ]
     },
     "execution_count": 36,
     "metadata": {},
     "output_type": "execute_result"
    }
   ],
   "source": [
    "algo2.tipo"
   ]
  },
  {
   "cell_type": "code",
   "execution_count": 38,
   "metadata": {},
   "outputs": [],
   "source": [
    "# Mais um exemplo de criação de classe\n",
    "\n",
    "class Estudantes:\n",
    "    def __init__(self,nome,idade,nota):\n",
    "        self.nome = nome\n",
    "        self.idade = idade\n",
    "        self.nota = nota\n"
   ]
  },
  {
   "cell_type": "code",
   "execution_count": 39,
   "metadata": {},
   "outputs": [],
   "source": [
    "# Criando um objeto da classe Estudates\n",
    "\n",
    "estudante1 = Estudantes('Bob',12,9.5)"
   ]
  },
  {
   "cell_type": "code",
   "execution_count": 40,
   "metadata": {},
   "outputs": [
    {
     "data": {
      "text/plain": [
       "'Bob'"
      ]
     },
     "execution_count": 40,
     "metadata": {},
     "output_type": "execute_result"
    }
   ],
   "source": [
    "estudante1.nome"
   ]
  },
  {
   "cell_type": "code",
   "execution_count": 41,
   "metadata": {},
   "outputs": [
    {
     "data": {
      "text/plain": [
       "12"
      ]
     },
     "execution_count": 41,
     "metadata": {},
     "output_type": "execute_result"
    }
   ],
   "source": [
    "estudante1.idade"
   ]
  },
  {
   "cell_type": "code",
   "execution_count": 42,
   "metadata": {},
   "outputs": [
    {
     "data": {
      "text/plain": [
       "9.5"
      ]
     },
     "execution_count": 42,
     "metadata": {},
     "output_type": "execute_result"
    }
   ],
   "source": [
    "estudante1.nota"
   ]
  },
  {
   "cell_type": "markdown",
   "metadata": {},
   "source": [
    "## 2. Manipulando atributos de objetos em Python"
   ]
  },
  {
   "cell_type": "code",
   "execution_count": 48,
   "metadata": {},
   "outputs": [],
   "source": [
    "# Criando uma classe em Python\n",
    "\n",
    "class Funcionarios:\n",
    "    def __init__(self,nome,salario,cargo):\n",
    "        self.nome = nome\n",
    "        self.salario = salario\n",
    "        self.cargo = cargo\n",
    "    \n",
    "    def listFunc(self):\n",
    "        print('Funcionário ' + self.nome + ' tem salário de R$ ' + str(self.salario) + ' e o cargo é ' + self.cargo)"
   ]
  },
  {
   "cell_type": "code",
   "execution_count": 49,
   "metadata": {},
   "outputs": [],
   "source": [
    "# Criando um objeto a partir da classe:\n",
    "\n",
    "func1 = Funcionarios('Mary',20000,'Cientista de dados')"
   ]
  },
  {
   "cell_type": "code",
   "execution_count": 50,
   "metadata": {},
   "outputs": [
    {
     "name": "stdout",
     "output_type": "stream",
     "text": [
      "Funcionário Mary tem salário de R$ 20000 e o cargo é Cientista de dados\n"
     ]
    }
   ],
   "source": [
    "# Usando o método da classe\n",
    "\n",
    "func1.listFunc()"
   ]
  },
  {
   "cell_type": "code",
   "execution_count": 51,
   "metadata": {},
   "outputs": [
    {
     "data": {
      "text/plain": [
       "True"
      ]
     },
     "execution_count": 51,
     "metadata": {},
     "output_type": "execute_result"
    }
   ],
   "source": [
    "# \"Has attribute\", verifica se o objeto em questão tem um determinado atributo\n",
    "\n",
    "hasattr(func1,'nome')"
   ]
  },
  {
   "cell_type": "code",
   "execution_count": 53,
   "metadata": {},
   "outputs": [
    {
     "data": {
      "text/plain": [
       "True"
      ]
     },
     "execution_count": 53,
     "metadata": {},
     "output_type": "execute_result"
    }
   ],
   "source": [
    "hasattr(func1,'salario')"
   ]
  },
  {
   "cell_type": "code",
   "execution_count": 54,
   "metadata": {},
   "outputs": [],
   "source": [
    "# 'Set attribute', altera o valor do atributo\n",
    "\n",
    "setattr(func1,'salario',4500)"
   ]
  },
  {
   "cell_type": "code",
   "execution_count": 55,
   "metadata": {},
   "outputs": [
    {
     "data": {
      "text/plain": [
       "4500"
      ]
     },
     "execution_count": 55,
     "metadata": {},
     "output_type": "execute_result"
    }
   ],
   "source": [
    "# Retorna o valor do atributo:\n",
    "\n",
    "getattr(func1,'salario')"
   ]
  },
  {
   "cell_type": "code",
   "execution_count": 56,
   "metadata": {},
   "outputs": [],
   "source": [
    "# Apaga o valor do atributo\n",
    "\n",
    "delattr(func1,'salario')"
   ]
  },
  {
   "cell_type": "code",
   "execution_count": 57,
   "metadata": {},
   "outputs": [
    {
     "data": {
      "text/plain": [
       "False"
      ]
     },
     "execution_count": 57,
     "metadata": {},
     "output_type": "execute_result"
    }
   ],
   "source": [
    "hasattr(func1, 'salario')"
   ]
  },
  {
   "cell_type": "markdown",
   "metadata": {},
   "source": [
    "## 3. Métodos de classes em Python"
   ]
  },
  {
   "cell_type": "markdown",
   "metadata": {},
   "source": [
    "- Métodos são funções definidas dentro de uma classe\n",
    "- Realizam operações específicas em objetos criados a partir dessa classe\n",
    "- Sempre incluem parâmetro `self` como primeiro argumento\n",
    "- Método `init` é usado para inicializar os atributos do objeto e é chamado quando um objeto é criado a partir da classe"
   ]
  },
  {
   "cell_type": "code",
   "execution_count": 60,
   "metadata": {},
   "outputs": [],
   "source": [
    "# Criando uma classe chamada Circulo\n",
    "\n",
    "class Circulo():\n",
    "\n",
    "    # Essa variável é constante, não precisa ser alterada/definida sempre que um objeto for criado\n",
    "    # Então, ela fica fora do init\n",
    "\n",
    "    pi = 3.14\n",
    "\n",
    "    # Para passar um valor padrão para um atributo, podemos colocar na definição do método:\n",
    "    def __init__(self, raio = 5):\n",
    "        self.raio = raio\n",
    "\n",
    "    # Método que calcula a área:\n",
    "    def area(self):\n",
    "        return (self.raio * self.raio) * Circulo.pi\n",
    "    \n",
    "    # Método para definir um novo raio:\n",
    "    def setRaio(self,novo_raio):\n",
    "        self.raio = novo_raio\n",
    "\n",
    "    # Método para obter o raio do circulo:\n",
    "    def getRaio(self):\n",
    "        return self.raio"
   ]
  },
  {
   "cell_type": "code",
   "execution_count": 67,
   "metadata": {},
   "outputs": [],
   "source": [
    "# Criando uma instância da classe\n",
    "\n",
    "circ = Circulo()"
   ]
  },
  {
   "cell_type": "code",
   "execution_count": 64,
   "metadata": {},
   "outputs": [
    {
     "data": {
      "text/plain": [
       "5"
      ]
     },
     "execution_count": 64,
     "metadata": {},
     "output_type": "execute_result"
    }
   ],
   "source": [
    "circ.getRaio()"
   ]
  },
  {
   "cell_type": "code",
   "execution_count": 66,
   "metadata": {},
   "outputs": [],
   "source": [
    "# Criado um novo objeto com um valor de raio\n",
    "\n",
    "circ1 = Circulo(7)"
   ]
  },
  {
   "cell_type": "code",
   "execution_count": 71,
   "metadata": {},
   "outputs": [
    {
     "data": {
      "text/plain": [
       "7"
      ]
     },
     "execution_count": 71,
     "metadata": {},
     "output_type": "execute_result"
    }
   ],
   "source": [
    "circ1.getRaio()"
   ]
  },
  {
   "cell_type": "code",
   "execution_count": 75,
   "metadata": {},
   "outputs": [
    {
     "name": "stdout",
     "output_type": "stream",
     "text": [
      "O raio é 5\n"
     ]
    }
   ],
   "source": [
    "# Imprimindo o raio\n",
    "print('O raio é', circ.getRaio())"
   ]
  },
  {
   "cell_type": "code",
   "execution_count": 74,
   "metadata": {},
   "outputs": [
    {
     "name": "stdout",
     "output_type": "stream",
     "text": [
      "A área é 78.5\n"
     ]
    }
   ],
   "source": [
    "# Imprimindo a área\n",
    "print('A área é',circ.area())"
   ]
  },
  {
   "cell_type": "code",
   "execution_count": 76,
   "metadata": {},
   "outputs": [],
   "source": [
    "# Gerando um novo valor para o raio do círculo\n",
    "circ.setRaio(3)"
   ]
  },
  {
   "cell_type": "code",
   "execution_count": 78,
   "metadata": {},
   "outputs": [
    {
     "name": "stdout",
     "output_type": "stream",
     "text": [
      "Novo raio é igual a 3\n"
     ]
    }
   ],
   "source": [
    "print('Novo raio é igual a',circ.getRaio())"
   ]
  },
  {
   "cell_type": "markdown",
   "metadata": {
    "vscode": {
     "languageId": "bat"
    }
   },
   "source": [
    "## 4 . Trabalhando com herança de classes em Python"
   ]
  },
  {
   "cell_type": "markdown",
   "metadata": {},
   "source": [
    "\n",
    "- Herança permite criar novas classes a partir de outras classes existentes, aproveitando atributos e métodos da classe original e adicionando novos atributos e métodos específicos\n",
    "- Classe original é chamada de `superclasse` ou `classe mãe`; nova classe é chamada de `subclasse` ou `classe filha`\n",
    "- Permite reutilizar código de maneira eficiente\n",
    "- Uma subclasse pode ter um método com o mesmo nome de um método de uma superclasse, mas com comportamento diferente"
   ]
  },
  {
   "cell_type": "code",
   "execution_count": null,
   "metadata": {},
   "outputs": [],
   "source": [
    "# Criando a classe Animal, que será a superclasse\n",
    "# As especificações aqui valem para todas as subclasses\n",
    "\n",
    "class Animal:\n",
    "    \n",
    "    def __init__(self):\n",
    "        print('Animal criado')\n",
    "\n",
    "    def imprimir(self):\n",
    "        print('Este é um animal')\n",
    "\n",
    "    def comer(self):\n",
    "        print('Hora de comer')\n",
    "\n",
    "    def emitir_som(self):\n",
    "        pass\n",
    "        "
   ]
  },
  {
   "cell_type": "code",
   "execution_count": 81,
   "metadata": {},
   "outputs": [],
   "source": [
    "# Criando a classe Cachorro - subclasse\n",
    "\n",
    "# Os parêntesis indicam que a classe é subclasse da outra\n",
    "class Cachorro(Animal):\n",
    "\n",
    "    def __init__(self):\n",
    "        Animal.__init__(self)\n",
    "        print('Objeto Cachorro criado')\n",
    "\n",
    "    def emitir_som(self):\n",
    "        print('Au au')"
   ]
  },
  {
   "cell_type": "code",
   "execution_count": 82,
   "metadata": {},
   "outputs": [],
   "source": [
    "# Criando a classe Gato - subclasse\n",
    "\n",
    "class Gato(Animal):\n",
    "\n",
    "    def __init__(self):\n",
    "        Animal.__init__(self)\n",
    "        print('Objeto Gato criado')\n",
    "\n",
    "    def emitir_som(self):\n",
    "        print('Miau')"
   ]
  },
  {
   "cell_type": "code",
   "execution_count": 83,
   "metadata": {},
   "outputs": [
    {
     "name": "stdout",
     "output_type": "stream",
     "text": [
      "Animal criado\n",
      "Objeto Cachorro criado\n"
     ]
    }
   ],
   "source": [
    "rex = Cachorro()"
   ]
  },
  {
   "cell_type": "code",
   "execution_count": 84,
   "metadata": {},
   "outputs": [
    {
     "name": "stdout",
     "output_type": "stream",
     "text": [
      "Animal criado\n",
      "Objeto Gato criado\n"
     ]
    }
   ],
   "source": [
    "pandinha = Gato()"
   ]
  },
  {
   "cell_type": "code",
   "execution_count": 86,
   "metadata": {},
   "outputs": [
    {
     "name": "stdout",
     "output_type": "stream",
     "text": [
      "Au au\n"
     ]
    }
   ],
   "source": [
    "rex.emitir_som()"
   ]
  },
  {
   "cell_type": "code",
   "execution_count": 87,
   "metadata": {},
   "outputs": [
    {
     "name": "stdout",
     "output_type": "stream",
     "text": [
      "Miau\n"
     ]
    }
   ],
   "source": [
    "pandinha.emitir_som()"
   ]
  },
  {
   "cell_type": "code",
   "execution_count": 88,
   "metadata": {},
   "outputs": [
    {
     "name": "stdout",
     "output_type": "stream",
     "text": [
      "Este é um animal\n"
     ]
    }
   ],
   "source": [
    "rex.imprimir()"
   ]
  },
  {
   "cell_type": "code",
   "execution_count": 89,
   "metadata": {},
   "outputs": [
    {
     "name": "stdout",
     "output_type": "stream",
     "text": [
      "Hora de comer\n"
     ]
    }
   ],
   "source": [
    "pandinha.comer()"
   ]
  },
  {
   "cell_type": "markdown",
   "metadata": {},
   "source": [
    "## 5. Polimorfismo"
   ]
  },
  {
   "cell_type": "markdown",
   "metadata": {},
   "source": [
    "- Permite que objetos de diferentes classes sejam tratados uniformemente\n",
    "  - Ou seja, um objeto pode ser tratado como se fosse de uma superclasse mesmo se for de uma subclasse\n",
    "- Habilidade de um objeto responder de diferentes formas à mesma mensagem\n",
    "  - Um mesmo método pode ser usado para todas as subclasses (mesmo nome), com comportamentos diferentes dependendo do objeto"
   ]
  },
  {
   "cell_type": "code",
   "execution_count": 90,
   "metadata": {},
   "outputs": [],
   "source": [
    "# Superclasse\n",
    "\n",
    "class Veiculo:\n",
    "    def __init__(self, marca, modelo):\n",
    "        self.marca = marca\n",
    "        self.modelo = modelo\n",
    "\n",
    "    def acelerar(self):\n",
    "        pass\n",
    "\n",
    "    def frear(self):\n",
    "        pass"
   ]
  },
  {
   "cell_type": "code",
   "execution_count": 91,
   "metadata": {},
   "outputs": [],
   "source": [
    "# Subclasse\n",
    "# Neste exemplo, o construtor será usado apenas na superclasse\n",
    "\n",
    "class Carro(Veiculo):\n",
    "\n",
    "    def acelerar(self):\n",
    "        print('O carro está acelerando.')\n",
    "\n",
    "    def frear(self):\n",
    "        print('O carro está freando.')"
   ]
  },
  {
   "cell_type": "code",
   "execution_count": 92,
   "metadata": {},
   "outputs": [],
   "source": [
    "# Subclasse\n",
    "\n",
    "class Moto(Veiculo):\n",
    "\n",
    "    def acelerar(self):\n",
    "        print('A moto está acelerando.')\n",
    "\n",
    "    def frear(self):\n",
    "        print('A moto está freando.')"
   ]
  },
  {
   "cell_type": "code",
   "execution_count": 94,
   "metadata": {},
   "outputs": [],
   "source": [
    "# Subclasse\n",
    "\n",
    "class Aviao(Veiculo):\n",
    "\n",
    "    def acelerar(self):\n",
    "        print('O avião está acelerando.')\n",
    "\n",
    "    def frear (self):\n",
    "        print('O avião está freando.')\n",
    "\n",
    "    def decolar(self):\n",
    "        print('O avião está decolando.')"
   ]
  },
  {
   "cell_type": "code",
   "execution_count": 95,
   "metadata": {},
   "outputs": [],
   "source": [
    "# Criar os objetos com uma lista\n",
    "\n",
    "lista_veiculos = [Carro('Porsche','911 Turbo'),Moto('Honda','BIS'),Aviao('Boeing','737')]"
   ]
  },
  {
   "cell_type": "code",
   "execution_count": 100,
   "metadata": {},
   "outputs": [
    {
     "name": "stdout",
     "output_type": "stream",
     "text": [
      "O carro está acelerando\n",
      "O carro está freando.\n",
      "-----\n",
      "A moto está acelerando.\n",
      "A moto está freando.\n",
      "-----\n",
      "O avião está acelerando.\n",
      "O avião está freando.\n",
      "O avião está decolando.\n",
      "-----\n"
     ]
    }
   ],
   "source": [
    "# No loop, o mesmo método terá comportamentos diferentes dependendo da subclasse do objeto \n",
    "\n",
    "for i in lista_veiculos:\n",
    "    i.acelerar()\n",
    "    i.frear()\n",
    "    \n",
    "    # Como nem todas as classes têm esse módulo, é preciso colocar um if\n",
    "    if isinstance(i,Aviao):\n",
    "        i.decolar()\n",
    "\n",
    "    print('-----')"
   ]
  }
 ],
 "metadata": {
  "kernelspec": {
   "display_name": "Python 3",
   "language": "python",
   "name": "python3"
  },
  "language_info": {
   "codemirror_mode": {
    "name": "ipython",
    "version": 3
   },
   "file_extension": ".py",
   "mimetype": "text/x-python",
   "name": "python",
   "nbconvert_exporter": "python",
   "pygments_lexer": "ipython3",
   "version": "3.11.9"
  }
 },
 "nbformat": 4,
 "nbformat_minor": 2
}
