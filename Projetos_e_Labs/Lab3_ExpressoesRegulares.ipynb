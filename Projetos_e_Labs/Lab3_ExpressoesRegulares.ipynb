{
 "cells": [
  {
   "cell_type": "code",
   "execution_count": 1,
   "metadata": {},
   "outputs": [],
   "source": [
    "import re"
   ]
  },
  {
   "cell_type": "code",
   "execution_count": 33,
   "metadata": {},
   "outputs": [],
   "source": [
    "texto = 'Meu e-mail é exemplo@gmail.com e você pode me contatar em outro_email@yahoo.com'"
   ]
  },
  {
   "cell_type": "code",
   "execution_count": 7,
   "metadata": {},
   "outputs": [
    {
     "name": "stdout",
     "output_type": "stream",
     "text": [
      "O caractere '@' apareceu 2 vezes no texto.\n"
     ]
    }
   ],
   "source": [
    "# Expressão regular para contar quantas vezes aparece um caractere \"@\"\n",
    "\n",
    "resultado = len(re.findall('@',texto))\n",
    "print(\"O caractere '@' apareceu\",resultado,'vezes no texto.')"
   ]
  },
  {
   "cell_type": "code",
   "execution_count": 36,
   "metadata": {},
   "outputs": [
    {
     "name": "stdout",
     "output_type": "stream",
     "text": [
      "['pode']\n",
      "<class 'list'>\n",
      "A palavra após 'você' é: pode\n"
     ]
    }
   ],
   "source": [
    "# Expressão regular para extrair a palavra que aparece após 'você' em um texto\n",
    "# r: permite considerar \\ como parte do padrão, não como string\n",
    "\n",
    "resultado = re.findall(r'você (\\w+)', texto)\n",
    "\n",
    "# O resultado será exibido como uma lista e caso haja mais de uma ocorrência do padrão, cada ocorrência será um item da lista\n",
    "print(resultado)\n",
    "print(type(resultado))\n",
    "print(\"A palavra após 'você' é:\",resultado[0])"
   ]
  }
 ],
 "metadata": {
  "kernelspec": {
   "display_name": "Python 3",
   "language": "python",
   "name": "python3"
  },
  "language_info": {
   "codemirror_mode": {
    "name": "ipython",
    "version": 3
   },
   "file_extension": ".py",
   "mimetype": "text/x-python",
   "name": "python",
   "nbconvert_exporter": "python",
   "pygments_lexer": "ipython3",
   "version": "3.11.9"
  }
 },
 "nbformat": 4,
 "nbformat_minor": 2
}
