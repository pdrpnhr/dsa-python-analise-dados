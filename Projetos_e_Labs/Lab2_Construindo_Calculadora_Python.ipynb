{
 "cells": [
  {
   "cell_type": "code",
   "execution_count": 40,
   "metadata": {},
   "outputs": [
    {
     "name": "stdout",
     "output_type": "stream",
     "text": [
      "***** Calculadora em Python *****\n",
      "Operação selecionada: Divisão\n"
     ]
    }
   ],
   "source": [
    "# Desafio: construir uma calculadora simples em Python como a apresentada pelo professor do curso.\n",
    "\n",
    "print('***** Calculadora em Python *****')\n",
    "\n",
    "operacoes = {'1':'Soma','2':'Subtração','3':'Multiplicação','4':'Divisão'}\n",
    "operacao = input('Selecione o número da operação desejada: \\n\\n1 - Soma\\n2 - Subtração\\n3 - Multiplicação\\n4 - Divisão\\n\\nDigite sua opção (1/2/3/4):')\n",
    "\n",
    "if operacao not in operacoes:\n",
    "    while operacao not in operacoes:\n",
    "        operacao = input('Por favor, selecione uma operação válida')\n",
    "\n",
    "print('Operação selecionada:',operacoes.get(operacao))"
   ]
  },
  {
   "cell_type": "code",
   "execution_count": 41,
   "metadata": {},
   "outputs": [
    {
     "name": "stdout",
     "output_type": "stream",
     "text": [
      "Número selecionado: 4.0\n"
     ]
    }
   ],
   "source": [
    "# Transformando o input em float para que seja possível realizar operações\n",
    "# V2: incluí o input num loop while para que, caso o usuário insira um caractere que não é um loop, seja pedido novamente.\n",
    "\n",
    "while True:\n",
    "    try:\n",
    "        num1 = float(input('\\nDigite o primeiro número: '))\n",
    "    except:\n",
    "        print('Por favor, digite um número')\n",
    "        continue\n",
    "    else:\n",
    "        print('Número selecionado:',num1)\n",
    "        break"
   ]
  },
  {
   "cell_type": "code",
   "execution_count": 42,
   "metadata": {},
   "outputs": [],
   "source": [
    "# V2: inclusão do loop while\n",
    "\n",
    "while True:\n",
    "    try:\n",
    "        num2 = float(input('\\nDigite o segundo número: '))\n",
    "    except:\n",
    "        print('Por favor, digite um número')\n",
    "        continue\n",
    "    else:\n",
    "        break"
   ]
  },
  {
   "cell_type": "code",
   "execution_count": 43,
   "metadata": {},
   "outputs": [
    {
     "name": "stdout",
     "output_type": "stream",
     "text": [
      "É impossível realizar divisão por 0. Por favor, tente de novo e escolha valores válidos.\n"
     ]
    }
   ],
   "source": [
    "if operacao == '1':\n",
    "    resultado = num1 + num2\n",
    "    print('\\n',num1,'+',num2,'=',resultado)\n",
    "elif operacao == '2':\n",
    "    resultado = num1 - num2\n",
    "    print('\\n',num1,'-',num2,'=',resultado)\n",
    "elif operacao == '3':\n",
    "    resultado = num1 * num2\n",
    "    print('\\n',num1,'*',num2,'=',resultado)\n",
    "elif operacao == '4':\n",
    "    if num2 == 0:\n",
    "        # Evitando erro caso o usuário tente dividir por zero:\n",
    "        print(\"É impossível realizar divisão por 0. Por favor, tente de novo e escolha valores válidos.\")\n",
    "    else:\n",
    "        resultado = num1 / num2\n",
    "        print('\\n',num1,'/',num2,'=',resultado)"
   ]
  },
  {
   "cell_type": "code",
   "execution_count": 44,
   "metadata": {},
   "outputs": [],
   "source": [
    "# Aprimoramentos possíveis para o futuro:\n",
    "# - Fazer as operações via funções, não via operações\n",
    "# - Interromper a execução assim que o usuário escolha uma operação que não existe (UX) - OK\n",
    "# - Evitar erro caso o usuário inclua letras em vez de números\n"
   ]
  }
 ],
 "metadata": {
  "kernelspec": {
   "display_name": "Python 3",
   "language": "python",
   "name": "python3"
  },
  "language_info": {
   "codemirror_mode": {
    "name": "ipython",
    "version": 3
   },
   "file_extension": ".py",
   "mimetype": "text/x-python",
   "name": "python",
   "nbconvert_exporter": "python",
   "pygments_lexer": "ipython3",
   "version": "3.11.9"
  }
 },
 "nbformat": 4,
 "nbformat_minor": 2
}
